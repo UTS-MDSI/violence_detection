{
 "cells": [
  {
   "cell_type": "markdown",
   "id": "82f9b62f",
   "metadata": {},
   "source": [
    "<table>\n",
    "    <tr>\n",
    "     <td style=\"background-color: #fff;\"><h1 style=\"font-size: 50px; margin: auto; padding-left: 50px; padding-right: 50px;\">Violence Detection - API</h1></td>\n",
    "</table>"
   ]
  },
  {
   "cell_type": "markdown",
   "id": "16202120",
   "metadata": {},
   "source": [
    "# 1. Dependencies & Configuration"
   ]
  },
  {
   "cell_type": "markdown",
   "id": "37a34858",
   "metadata": {},
   "source": [
    "## 1.1. Dependencies Installation & Import"
   ]
  },
  {
   "cell_type": "code",
   "execution_count": 5,
   "id": "f883830e",
   "metadata": {},
   "outputs": [],
   "source": [
    "%%capture\n",
    "pip install Flask==2.0.1"
   ]
  },
  {
   "cell_type": "code",
   "execution_count": 6,
   "id": "e7e13876",
   "metadata": {},
   "outputs": [],
   "source": [
    "# Imports the required packages\n",
    "\n",
    "import distutils\n",
    "import pandas as pd\n",
    "from datetime import datetime\n",
    "from flask import Flask, request"
   ]
  },
  {
   "cell_type": "markdown",
   "id": "a91053db",
   "metadata": {},
   "source": [
    "# 2. API"
   ]
  },
  {
   "cell_type": "markdown",
   "id": "3050516a",
   "metadata": {},
   "source": [
    "## 2.1. Defined Functions"
   ]
  },
  {
   "cell_type": "code",
   "execution_count": 10,
   "id": "53a17dc1",
   "metadata": {},
   "outputs": [],
   "source": [
    "# Create the endpoint structure\n",
    "\n",
    "## Initialise Flask\n",
    "app = Flask(__name__)\n",
    "\n",
    "## Initialise the output\n",
    "detections = {\n",
    "    \"Current State\": {\n",
    "        \"Last Update UTC\": datetime.utcnow().strftime(\"%d-%m-%Y, %H:%M:%S\"),\n",
    "        \"Probability\": 0,\n",
    "        \"Violence?\": False\n",
    "        },\n",
    "    \"Logs\": {\n",
    "        \"Current Session\": []\n",
    "    }\n",
    "    }\n",
    "\n",
    "@app.route(\"/ViolenceDetection/ViolenceMonitoring/\", methods=[\"GET\"])\n",
    "def violence_monitoring():\n",
    "    \n",
    "    ## Return information\n",
    "    return detections\n",
    "\n",
    "@app.route(\"/ViolenceDetection/CurrentDetection/\", methods=[\"GET\"])\n",
    "def current_detection():\n",
    "    \n",
    "    ## Return information\n",
    "    return detections[\"Current State\"]\n",
    "\n",
    "@app.route(\"/ViolenceDetection/LogsDetections/\", methods=[\"GET\"])\n",
    "def logs_detections():\n",
    "    \n",
    "    ## Return information\n",
    "    return detections[\"Logs\"]\n",
    "\n",
    "@app.route(\"/ViolenceDetection/UpdateDetection/<int:current_detection>\", methods=[\"PUT\"])\n",
    "def update_detection(current_detection):\n",
    "    \n",
    "    ## Update current state\n",
    "    detections[\"Current State\"][\"Last Update UTC\"] = datetime.utcnow().strftime(\"%d-%m-%Y, %H:%M:%S\")\n",
    "    detections[\"Current State\"][\"Probability\"] = current_detection / 100\n",
    "    detections[\"Current State\"][\"Violence?\"] = True if current_detection >= 50 else False\n",
    "    \n",
    "    ## Save logs\n",
    "    detections[\"Logs\"][\"Current Session\"] += [(datetime.utcnow().strftime(\"%d-%m-%Y, %H:%M:%S\"),\n",
    "                                               current_detection / 100,\n",
    "                                               True if current_detection >= 50 else False)]\n",
    "    \n",
    "    return detections"
   ]
  },
  {
   "cell_type": "markdown",
   "id": "d1e79d77",
   "metadata": {},
   "source": [
    "## 2.2. Run"
   ]
  },
  {
   "cell_type": "code",
   "execution_count": 11,
   "id": "e64683fd",
   "metadata": {},
   "outputs": [
    {
     "name": "stdout",
     "output_type": "stream",
     "text": [
      " * Serving Flask app '__main__' (lazy loading)\n",
      " * Environment: production\n",
      "\u001b[31m   WARNING: This is a development server. Do not use it in a production deployment.\u001b[0m\n",
      "\u001b[2m   Use a production WSGI server instead.\u001b[0m\n",
      " * Debug mode: off\n"
     ]
    },
    {
     "name": "stderr",
     "output_type": "stream",
     "text": [
      " * Running on all addresses.\n",
      "   WARNING: This is a development server. Do not use it in a production deployment.\n",
      " * Running on http://10.138.0.4:5000/ (Press CTRL+C to quit)\n",
      "186.147.152.185 - - [29/May/2021 18:17:33] \"GET /ViolenceDetection/ViolenceMonitoring HTTP/1.1\" 308 -\n",
      "186.147.152.185 - - [29/May/2021 18:17:33] \"GET /ViolenceDetection/ViolenceMonitoring/ HTTP/1.1\" 200 -\n",
      "186.147.152.185 - - [29/May/2021 18:17:41] \"PUT /ViolenceDetection/UpdateDetection/53 HTTP/1.1\" 200 -\n",
      "186.147.152.185 - - [29/May/2021 18:17:49] \"PUT /ViolenceDetection/UpdateDetection/20 HTTP/1.1\" 200 -\n",
      "186.147.152.185 - - [29/May/2021 18:17:56] \"GET /ViolenceDetection/CurrentDetection HTTP/1.1\" 308 -\n",
      "186.147.152.185 - - [29/May/2021 18:17:57] \"GET /ViolenceDetection/CurrentDetection/ HTTP/1.1\" 200 -\n",
      "186.147.152.185 - - [29/May/2021 18:18:01] \"GET /ViolenceDetection/LogsDetections HTTP/1.1\" 308 -\n",
      "186.147.152.185 - - [29/May/2021 18:18:02] \"GET /ViolenceDetection/LogsDetections/ HTTP/1.1\" 200 -\n"
     ]
    }
   ],
   "source": [
    "app.run(host=\"0.0.0.0\" , port=5000)"
   ]
  }
 ],
 "metadata": {
  "environment": {
   "name": "common-cpu.m69",
   "type": "gcloud",
   "uri": "gcr.io/deeplearning-platform-release/base-cpu:m69"
  },
  "kernelspec": {
   "display_name": "Python 3",
   "language": "python",
   "name": "python3"
  },
  "language_info": {
   "codemirror_mode": {
    "name": "ipython",
    "version": 3
   },
   "file_extension": ".py",
   "mimetype": "text/x-python",
   "name": "python",
   "nbconvert_exporter": "python",
   "pygments_lexer": "ipython3",
   "version": "3.7.10"
  }
 },
 "nbformat": 4,
 "nbformat_minor": 5
}
