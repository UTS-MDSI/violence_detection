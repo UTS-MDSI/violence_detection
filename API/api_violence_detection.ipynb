{
 "cells": [
  {
   "cell_type": "markdown",
   "id": "8e9f2ced",
   "metadata": {},
   "source": [
    "<table>\n",
    "    <tr>\n",
    "     <td style=\"background-color: #fff;\"><h1 style=\"font-size: 50px; margin: auto; padding-left: 50px; padding-right: 50px;\">Violence Detection - API</h1></td>\n",
    "</table>"
   ]
  },
  {
   "cell_type": "markdown",
   "id": "c83d6f2a",
   "metadata": {},
   "source": [
    "# 1. Dependencies & Configuration"
   ]
  },
  {
   "cell_type": "markdown",
   "id": "80b4c69d",
   "metadata": {},
   "source": [
    "## 1.1. Dependencies Installation & Import"
   ]
  },
  {
   "cell_type": "code",
   "execution_count": null,
   "id": "3ab91532",
   "metadata": {},
   "outputs": [],
   "source": [
    "%%capture\n",
    "pip install Flask==2.0.1"
   ]
  },
  {
   "cell_type": "code",
   "execution_count": null,
   "id": "bbfbd6a5",
   "metadata": {},
   "outputs": [],
   "source": [
    "# Imports the required packages\n",
    "\n",
    "import distutils\n",
    "import pandas as pd\n",
    "from datetime import datetime\n",
    "from flask import Flask, request"
   ]
  },
  {
   "cell_type": "markdown",
   "id": "9a4c5e84",
   "metadata": {},
   "source": [
    "# 2. API"
   ]
  },
  {
   "cell_type": "markdown",
   "id": "407290c2",
   "metadata": {},
   "source": [
    "## 2.1. Defined Functions"
   ]
  },
  {
   "cell_type": "code",
   "execution_count": null,
   "id": "c067e978",
   "metadata": {},
   "outputs": [],
   "source": [
    "# Create the endpoint structure\n",
    "\n",
    "## Initialise Flask\n",
    "app = Flask(__name__)\n",
    "\n",
    "## Initialise the output\n",
    "detections = {\n",
    "    \"Current State\": {\n",
    "        \"Last Update UTC\": datetime.utcnow().strftime(\"%d-%m-%Y, %H:%M:%S\"),\n",
    "        \"Probability\": 0,\n",
    "        \"Violence?\": False\n",
    "        },\n",
    "    \"Logs\": {\n",
    "        \"Current Session\": []\n",
    "    }\n",
    "    }\n",
    "\n",
    "## Frames\n",
    "frame = {\n",
    "    \"Current Frame\": 1\n",
    "}\n",
    "\n",
    "@app.route(\"/ViolenceDetection/ViolenceMonitoring/\", methods=[\"GET\"])\n",
    "def violence_monitoring():\n",
    "    \n",
    "    ## Return information\n",
    "    return detections\n",
    "\n",
    "@app.route(\"/ViolenceDetection/CurrentDetection/\", methods=[\"GET\"])\n",
    "def current_detection():\n",
    "    \n",
    "    ## Return information\n",
    "    return detections[\"Current State\"]\n",
    "\n",
    "@app.route(\"/ViolenceDetection/LogsDetections/\", methods=[\"GET\"])\n",
    "def logs_detections():\n",
    "    \n",
    "    ## Return information\n",
    "    return detections[\"Logs\"]\n",
    "\n",
    "@app.route(\"/ViolenceDetection/UpdateDetection/<int:current_detection>\", methods=[\"PUT\"])\n",
    "def update_detection(current_detection):\n",
    "    \n",
    "    ## Update current state\n",
    "    detections[\"Current State\"][\"Last Update UTC\"] = datetime.utcnow().strftime(\"%d-%m-%Y, %H:%M:%S\")\n",
    "    detections[\"Current State\"][\"Probability\"] = current_detection / 100\n",
    "    detections[\"Current State\"][\"Violence?\"] = True if current_detection >= 70 else False\n",
    "    \n",
    "    ## Save logs\n",
    "    detections[\"Logs\"][\"Current Session\"] += [(datetime.utcnow().strftime(\"%d-%m-%Y, %H:%M:%S\"),\n",
    "                                               current_detection / 100,\n",
    "                                               True if current_detection >= 70 else False)]\n",
    "    \n",
    "    return detections\n",
    "\n",
    "\n",
    "@app.route(\"/ViolenceDetection/GetFrame/\", methods=[\"GET\"])\n",
    "def get_frame():\n",
    "    \n",
    "    ## Return information\n",
    "    return frame\n",
    "\n",
    "@app.route(\"/ViolenceDetection/UpdateFrame/<int:current_frame>\", methods=[\"PUT\"])\n",
    "def update_frame(current_frame):\n",
    "    \n",
    "    frame[\"Current Frame\"] = current_frame\n",
    "    \n",
    "    return frame"
   ]
  },
  {
   "cell_type": "markdown",
   "id": "65f29923",
   "metadata": {},
   "source": [
    "## 2.2. Run"
   ]
  },
  {
   "cell_type": "code",
   "execution_count": null,
   "id": "b90094c7",
   "metadata": {},
   "outputs": [],
   "source": [
    "app.run(host=\"0.0.0.0\" , port=5000)"
   ]
  }
 ],
 "metadata": {
  "environment": {
   "name": "common-cpu.m69",
   "type": "gcloud",
   "uri": "gcr.io/deeplearning-platform-release/base-cpu:m69"
  },
  "kernelspec": {
   "display_name": "Python 3",
   "language": "python",
   "name": "python3"
  },
  "language_info": {
   "codemirror_mode": {
    "name": "ipython",
    "version": 3
   },
   "file_extension": ".py",
   "mimetype": "text/x-python",
   "name": "python",
   "nbconvert_exporter": "python",
   "pygments_lexer": "ipython3",
   "version": "3.7.10"
  }
 },
 "nbformat": 4,
 "nbformat_minor": 5
}
