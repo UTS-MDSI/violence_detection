{
 "cells": [
  {
   "cell_type": "code",
   "execution_count": 26,
   "id": "7f33eacd",
   "metadata": {},
   "outputs": [],
   "source": [
    "import os"
   ]
  },
  {
   "cell_type": "code",
   "execution_count": 27,
   "id": "301ccb69",
   "metadata": {},
   "outputs": [
    {
     "name": "stdout",
     "output_type": "stream",
     "text": [
      "/home/jupyter/utilities\n"
     ]
    }
   ],
   "source": [
    "!pwd"
   ]
  },
  {
   "cell_type": "markdown",
   "id": "903bcb5e",
   "metadata": {},
   "source": [
    "# Step 1: Download data"
   ]
  },
  {
   "cell_type": "code",
   "execution_count": 2,
   "id": "4746ed13",
   "metadata": {},
   "outputs": [
    {
     "name": "stdout",
     "output_type": "stream",
     "text": [
      "Collecting gdown\n",
      "  Downloading gdown-3.13.0.tar.gz (9.3 kB)\n",
      "  Installing build dependencies ... \u001b[?25ldone\n",
      "\u001b[?25h  Getting requirements to build wheel ... \u001b[?25ldone\n",
      "\u001b[?25h    Preparing wheel metadata ... \u001b[?25ldone\n",
      "\u001b[?25hCollecting filelock\n",
      "  Downloading filelock-3.0.12-py3-none-any.whl (7.6 kB)\n",
      "Requirement already satisfied: six in /opt/conda/lib/python3.7/site-packages (from gdown) (1.16.0)\n",
      "Requirement already satisfied: tqdm in /opt/conda/lib/python3.7/site-packages (from gdown) (4.60.0)\n",
      "Requirement already satisfied: requests[socks]>=2.12.0 in /opt/conda/lib/python3.7/site-packages (from gdown) (2.25.1)\n",
      "Requirement already satisfied: idna<3,>=2.5 in /opt/conda/lib/python3.7/site-packages (from requests[socks]>=2.12.0->gdown) (2.10)\n",
      "Requirement already satisfied: urllib3<1.27,>=1.21.1 in /opt/conda/lib/python3.7/site-packages (from requests[socks]>=2.12.0->gdown) (1.26.4)\n",
      "Requirement already satisfied: certifi>=2017.4.17 in /opt/conda/lib/python3.7/site-packages (from requests[socks]>=2.12.0->gdown) (2020.6.20)\n",
      "Requirement already satisfied: chardet<5,>=3.0.2 in /opt/conda/lib/python3.7/site-packages (from requests[socks]>=2.12.0->gdown) (4.0.0)\n",
      "Requirement already satisfied: PySocks!=1.5.7,>=1.5.6 in /opt/conda/lib/python3.7/site-packages (from requests[socks]>=2.12.0->gdown) (1.7.1)\n",
      "Building wheels for collected packages: gdown\n",
      "  Building wheel for gdown (PEP 517) ... \u001b[?25ldone\n",
      "\u001b[?25h  Created wheel for gdown: filename=gdown-3.13.0-py3-none-any.whl size=9034 sha256=40a3ea2e5524b98452581770de6d2cdb2b37fd8a0424ac6d8e8ed2d2fbbe4b06\n",
      "  Stored in directory: /home/jupyter/.cache/pip/wheels/2f/2a/2f/86449b6bdbaa9aef873f68332b68be6bfbc386b9219f47157d\n",
      "Successfully built gdown\n",
      "Installing collected packages: filelock, gdown\n",
      "Successfully installed filelock-3.0.12 gdown-3.13.0\n"
     ]
    }
   ],
   "source": [
    "# Install package to download data from google drive\n",
    "!pip install gdown"
   ]
  },
  {
   "cell_type": "code",
   "execution_count": null,
   "id": "47ca7e6c",
   "metadata": {},
   "outputs": [
    {
     "name": "stdout",
     "output_type": "stream",
     "text": [
      "mkdir: cannot create directory ‘data’: File exists\n",
      "/home/jupyter/data\n",
      "Downloading...\n",
      "From: https://drive.google.com/uc?id=1tLDtwS9DwoW6JIhXcmsrRgczRgfG3MWZ\n",
      "To: /home/jupyter/data/RWF-2000.zip.001\n",
      "4.29GB [00:38, 112MB/s] \n",
      "Downloading...\n",
      "From: https://drive.google.com/uc?id=1w9G_Z7gkXZzK4DImdI8wanyjs22fQARO\n",
      "To: /home/jupyter/data/RWF-2000.zip.002\n",
      "4.29GB [00:45, 93.9MB/s]\n",
      "Downloading...\n",
      "From: https://drive.google.com/uc?id=15LhjavoUsLS01CPkc3qav0rJxBc9d4nl\n",
      "To: /home/jupyter/data/RWF-2000.zip.003\n",
      "3.74GB [00:35, 104MB/s] \n"
     ]
    }
   ],
   "source": [
    "# Download data\n",
    "!mkdir ../data\n",
    "%cd ../data\n",
    "!gdown --id 1hRjRx5qMe-Wu0LpddsSyHAZbDG9ceQKm\n",
    "!gdown --id 1RctxjVTPoV-ioiAEs0n4Y7c0n969jGUp\n",
    "!gdown --id 1G0FAcFMNaRiiNeOqKm1Oljk3nS59P_jG\n",
    "!cat RWF-2000.zip.* >RWF-2000.zip\n",
    "!unzip -q RWF-2000.zip\n",
    "%cd ../Utilities"
   ]
  },
  {
   "cell_type": "markdown",
   "id": "cafc89d8",
   "metadata": {},
   "source": [
    "# Step 2: Split Data"
   ]
  },
  {
   "cell_type": "code",
   "execution_count": 5,
   "id": "3cb1a245",
   "metadata": {},
   "outputs": [],
   "source": [
    "!python SplitData.py --data_directory ../data/RWF-2000 --ratio 0.25 --seed 1"
   ]
  },
  {
   "cell_type": "markdown",
   "id": "5472a5ee",
   "metadata": {},
   "source": [
    "# Step 3: Rename all videos"
   ]
  },
  {
   "cell_type": "code",
   "execution_count": 25,
   "id": "583de298",
   "metadata": {},
   "outputs": [],
   "source": [
    "# There are some names that could cause conflicts in the preprocessing\n",
    "incremental_id = 0\n",
    "\n",
    "for path, dirs, files in os.walk('../data/RWF-2000'):\n",
    "    files.sort()\n",
    "    for file in files:\n",
    "        print(file)\n",
    "        filename, ext = os.path.splitext(file)\n",
    "        new_file =  str(incremental_id) + ext\n",
    "        \n",
    "        if ext == '.avi':\n",
    "            old_filepath = os.path.join(path, file)\n",
    "            new_filepath = os.path.join(path, new_file)\n",
    "            os.rename(old_filepath, new_filepath)\n",
    "            incremental_id+=1"
   ]
  },
  {
   "cell_type": "markdown",
   "id": "906188b0",
   "metadata": {},
   "source": [
    "# Step 3: Preprocess Data"
   ]
  },
  {
   "cell_type": "code",
   "execution_count": null,
   "metadata": {},
   "outputs": [],
   "source": [
    "!python fusioni3dpreprocess.py --type folder --input_path ../data/RWF-2000/train/NonFight --output_path ../datai3d/train/NonFight"
   ]
  },
  {
   "cell_type": "code",
   "execution_count": null,
   "metadata": {},
   "outputs": [],
   "source": [
    "!python fusioni3dpreprocess.py --type folder --input_path ../data/RWF-2000/train/Fight --output_path ../datai3d/train/Fight"
   ]
  },
  {
   "cell_type": "code",
   "execution_count": null,
   "metadata": {},
   "outputs": [],
   "source": [
    "!python fusioni3dpreprocess.py --type folder --input_path ../data/RWF-2000/validation/NonFight --output_path ../datai3d/validation/NonFight"
   ]
  },
  {
   "cell_type": "code",
   "execution_count": null,
   "metadata": {},
   "outputs": [],
   "source": [
    "!python fusioni3dpreprocess.py --type folder --input_path ../data/RWF-2000/validation/Fight --output_path ../datai3d/validation/Fight"
   ]
  },
  {
   "cell_type": "code",
   "execution_count": null,
   "metadata": {},
   "outputs": [],
   "source": [
    "!python fusioni3dpreprocess.py --type folder --input_path ../data/RWF-2000/test/NonFight --output_path ../datai3d/test/NonFight"
   ]
  },
  {
   "cell_type": "code",
   "execution_count": null,
   "metadata": {},
   "outputs": [],
   "source": [
    "!python fusioni3dpreprocess.py --type folder --input_path ../data/RWF-2000/test/Fight --output_path ../datai3d/test/Fight"
   ]
  }
 ],
 "metadata": {
  "environment": {
   "name": "tf2-gpu.2-5.m70",
   "type": "gcloud",
   "uri": "gcr.io/deeplearning-platform-release/tf2-gpu.2-5:m70"
  },
  "kernelspec": {
   "display_name": "Python 3",
   "language": "python",
   "name": "python3"
  },
  "language_info": {
   "codemirror_mode": {
    "name": "ipython",
    "version": 3
   },
   "file_extension": ".py",
   "mimetype": "text/x-python",
   "name": "python",
   "nbconvert_exporter": "python",
   "pygments_lexer": "ipython3",
   "version": "3.7.10"
  }
 },
 "nbformat": 4,
 "nbformat_minor": 5
}