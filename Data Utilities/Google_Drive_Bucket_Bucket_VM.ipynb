{
  "nbformat": 4,
  "nbformat_minor": 0,
  "metadata": {
    "colab": {
      "name": "Google Drive_Bucket/Bucket_VM.ipynb",
      "provenance": [],
      "collapsed_sections": []
    },
    "kernelspec": {
      "name": "python3",
      "display_name": "Python 3"
    },
    "language_info": {
      "name": "python"
    }
  },
  "cells": [
    {
      "cell_type": "markdown",
      "metadata": {
        "id": "HgcXsOz4giJU"
      },
      "source": [
        "## From Google Drive to Storage"
      ]
    },
    {
      "cell_type": "code",
      "metadata": {
        "id": "FzceNFhdgjPD"
      },
      "source": [
        "from google.colab import drive\n",
        "drive.mount('/content/gdrive')"
      ],
      "execution_count": null,
      "outputs": []
    },
    {
      "cell_type": "code",
      "metadata": {
        "id": "dC_eoce_fcul"
      },
      "source": [
        "from google.colab import auth\n",
        "auth.authenticate_user()\n",
        "project_id = 'apt-terrain-310201'\n",
        "!gcloud config set project {project_id}\n",
        "!gsutil ls"
      ],
      "execution_count": null,
      "outputs": []
    },
    {
      "cell_type": "code",
      "metadata": {
        "id": "lsSA6X7pfcw8"
      },
      "source": [
        "bucket_name = 'violence'\n",
        "!gsutil -m cp -r /content/gdrive/MyDrive/42028/Dataset_Split/new/ gs://{bucket_name}/"
      ],
      "execution_count": null,
      "outputs": []
    },
    {
      "cell_type": "markdown",
      "metadata": {
        "id": "WdG1km9ygUhZ"
      },
      "source": [
        "## From storage to VM"
      ]
    },
    {
      "cell_type": "code",
      "metadata": {
        "id": "bEx6m284ghI1"
      },
      "source": [
        "from google.colab import auth\n",
        "auth.authenticate_user()\n",
        "project_id = 'apt-terrain-310201'\n",
        "!gcloud config set project {project_id}\n",
        "!gsutil ls"
      ],
      "execution_count": null,
      "outputs": []
    },
    {
      "cell_type": "code",
      "metadata": {
        "id": "Fz748dc3gXPL"
      },
      "source": [
        "#copy files from storage\n",
        "!gsutil -m cp -r gs://violence/new new"
      ],
      "execution_count": null,
      "outputs": []
    }
  ]
}