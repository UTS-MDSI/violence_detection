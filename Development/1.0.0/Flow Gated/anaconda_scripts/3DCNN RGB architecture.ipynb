{
 "cells": [
  {
   "cell_type": "markdown",
   "metadata": {},
   "source": [
    "# Libraries"
   ]
  },
  {
   "cell_type": "code",
   "execution_count": 1,
   "metadata": {},
   "outputs": [],
   "source": [
    "def warn(*args, **kwargs):\n",
    "    pass\n",
    "import warnings\n",
    "warnings.warn = warn"
   ]
  },
  {
   "cell_type": "code",
   "execution_count": 2,
   "metadata": {},
   "outputs": [
    {
     "name": "stdout",
     "output_type": "stream",
     "text": [
      "Requirement already satisfied: opencv_python==4.5.1.48 in c:\\users\\61402\\anaconda3\\envs\\tf-gpu\\lib\\site-packages (4.5.1.48)\n",
      "Requirement already satisfied: matplotlib==3.1.3 in c:\\users\\61402\\anaconda3\\envs\\tf-gpu\\lib\\site-packages (3.1.3)\n",
      "Requirement already satisfied: kiwisolver>=1.0.1 in c:\\users\\61402\\anaconda3\\envs\\tf-gpu\\lib\\site-packages (from matplotlib==3.1.3) (1.3.1)\n",
      "Requirement already satisfied: python-dateutil>=2.1 in c:\\users\\61402\\anaconda3\\envs\\tf-gpu\\lib\\site-packages (from matplotlib==3.1.3) (2.8.1)\n",
      "Requirement already satisfied: numpy>=1.11 in c:\\users\\61402\\anaconda3\\envs\\tf-gpu\\lib\\site-packages (from matplotlib==3.1.3) (1.19.5)\n",
      "Requirement already satisfied: cycler>=0.10 in c:\\users\\61402\\anaconda3\\envs\\tf-gpu\\lib\\site-packages (from matplotlib==3.1.3) (0.10.0)\n",
      "Requirement already satisfied: pyparsing!=2.0.4,!=2.1.2,!=2.1.6,>=2.0.1 in c:\\users\\61402\\anaconda3\\envs\\tf-gpu\\lib\\site-packages (from matplotlib==3.1.3) (2.4.7)\n",
      "Requirement already satisfied: six in c:\\users\\61402\\anaconda3\\envs\\tf-gpu\\lib\\site-packages (from cycler>=0.10->matplotlib==3.1.3) (1.15.0)\n"
     ]
    }
   ],
   "source": [
    "!pip install opencv_python==4.5.1.48 \\\n",
    "             matplotlib==3.1.3"
   ]
  },
  {
   "cell_type": "code",
   "execution_count": 3,
   "metadata": {},
   "outputs": [],
   "source": [
    "import numpy as np\n",
    "import os\n",
    "from time import time\n",
    "import cv2\n",
    "\n",
    "import matplotlib.pyplot as plt\n",
    "from keras.utils import Sequence\n",
    "from keras.utils import np_utils\n",
    "\n",
    "\n",
    "from keras.models import Sequential, Input, Model\n",
    "from keras.layers import Dense, Flatten, Conv3D, MaxPooling3D, Dropout, BatchNormalization, Activation, LeakyReLU, Add, Multiply\n",
    "from keras.regularizers import l2\n",
    "from keras.layers.core import Lambda\n",
    "\n",
    "\n",
    "import keras.backend as K\n",
    "from keras.callbacks import LearningRateScheduler\n",
    "\n",
    "#from keras.utils import multi_gpu_model  \n",
    "from keras.optimizers import Adam, SGD\n",
    "\n",
    "import tensorflow as tf"
   ]
  },
  {
   "cell_type": "code",
   "execution_count": 4,
   "metadata": {},
   "outputs": [],
   "source": [
    "physical_devices = tf.config.experimental.list_physical_devices('GPU')\n",
    "assert len(physical_devices) > 0, \"Not enough GPU hardware devices available\"\n",
    "config = tf.config.experimental.set_memory_growth(physical_devices[0], True)"
   ]
  },
  {
   "cell_type": "code",
   "execution_count": 5,
   "metadata": {},
   "outputs": [],
   "source": [
    "config = tf.compat.v1.ConfigProto()\n",
    "config.gpu_options.allow_growth = True\n",
    "config.gpu_options.per_process_gpu_memory_fraction = 0.95\n",
    "tf.compat.v1.keras.backend.set_session(tf.compat.v1.Session(config=config))"
   ]
  },
  {
   "cell_type": "markdown",
   "metadata": {},
   "source": [
    "## GPU: no usado"
   ]
  },
  {
   "cell_type": "code",
   "execution_count": 6,
   "metadata": {},
   "outputs": [],
   "source": [
    "# strategy = tf.distribute.MirroredStrategy(devices=[\"/gpu:0\", \"/gpu:1\"], \n",
    "#                                         cross_device_ops=tf.distribute.HierarchicalCopyAllReduce())"
   ]
  },
  {
   "cell_type": "markdown",
   "metadata": {},
   "source": [
    "# Data generator: download and data augmentation"
   ]
  },
  {
   "cell_type": "code",
   "execution_count": 7,
   "metadata": {},
   "outputs": [],
   "source": [
    "class DataGenerator(Sequence):\n",
    "    \"\"\"Data Generator inherited from keras.utils.Sequence\n",
    "    Args: \n",
    "        directory: the path of data set, and each sub-folder will be assigned to one class\n",
    "        batch_size: the number of data points in each batch\n",
    "        shuffle: whether to shuffle the data per epoch\n",
    "    Note:\n",
    "        If you want to load file with other data format, please fix the method of \"load_data\" as you want\n",
    "    \"\"\"\n",
    "    def __init__(self, directory, batch_size=1, shuffle=True, data_augmentation=True):\n",
    "        # Initialize the params\n",
    "        self.batch_size = batch_size\n",
    "        self.directory = directory\n",
    "        self.shuffle = shuffle\n",
    "        self.data_aug = data_augmentation\n",
    "        # Load all the save_path of files, and create a dictionary that save the pair of \"data:label\"\n",
    "        self.X_path, self.Y_dict = self.search_data() \n",
    "        # Print basic statistics information\n",
    "        self.print_stats()\n",
    "        return None\n",
    "        \n",
    "    def search_data(self):\n",
    "        X_path = []\n",
    "        Y_dict = {}\n",
    "        # list all kinds of sub-folders\n",
    "        self.dirs = sorted(os.listdir(self.directory))\n",
    "        one_hots = np_utils.to_categorical(range(len(self.dirs)))\n",
    "        for i,folder in enumerate(self.dirs):\n",
    "            folder_path = os.path.join(self.directory,folder)\n",
    "            for file in os.listdir(folder_path):\n",
    "                file_path = os.path.join(folder_path,file)\n",
    "                # append the each file path, and keep its label  \n",
    "                X_path.append(file_path)\n",
    "                Y_dict[file_path] = one_hots[i]\n",
    "        return X_path, Y_dict\n",
    "    \n",
    "    def print_stats(self):\n",
    "        # calculate basic information\n",
    "        self.n_files = len(self.X_path)\n",
    "        self.n_classes = len(self.dirs)\n",
    "        self.indexes = np.arange(len(self.X_path))\n",
    "        np.random.shuffle(self.indexes)\n",
    "        # Output states\n",
    "        print(\"Found {} files belonging to {} classes.\".format(self.n_files,self.n_classes))\n",
    "        for i,label in enumerate(self.dirs):\n",
    "            print('%10s : '%(label),i)\n",
    "        return None\n",
    "    \n",
    "    def __len__(self):\n",
    "        # calculate the iterations of each epoch\n",
    "        steps_per_epoch = np.ceil(len(self.X_path) / float(self.batch_size))\n",
    "        return int(steps_per_epoch)\n",
    "\n",
    "    def __getitem__(self, index):\n",
    "        \"\"\"Get the data of each batch\n",
    "        \"\"\"\n",
    "        # get the indexs of each batch\n",
    "        batch_indexs = self.indexes[index*self.batch_size:(index+1)*self.batch_size]\n",
    "        # using batch_indexs to get path of current batch\n",
    "        batch_path = [self.X_path[k] for k in batch_indexs]\n",
    "        # get batch data\n",
    "        batch_x, batch_y = self.data_generation(batch_path)\n",
    "        return batch_x, batch_y\n",
    "\n",
    "    def on_epoch_end(self):\n",
    "        # shuffle the data at each end of epoch\n",
    "        if self.shuffle == True:\n",
    "            np.random.shuffle(self.indexes)\n",
    "\n",
    "    def data_generation(self, batch_path):\n",
    "        # load data into memory, you can change the np.load to any method you want\n",
    "        batch_x = [self.load_data(x) for x in batch_path]\n",
    "        batch_y = [self.Y_dict[x] for x in batch_path]\n",
    "        # transfer the data format and take one-hot coding for labels\n",
    "        batch_x = np.array(batch_x)\n",
    "        batch_y = np.array(batch_y)\n",
    "        return batch_x, batch_y\n",
    "      \n",
    "    def normalize(self, data):\n",
    "        mean = np.mean(data)\n",
    "        std = np.std(data)\n",
    "        return (data-mean) / std\n",
    "    \n",
    "    def random_flip(self, video, prob):\n",
    "        s = np.random.rand()\n",
    "        if s < prob:\n",
    "            video = np.flip(m=video, axis=2)\n",
    "        return video    \n",
    "    \n",
    "    def uniform_sampling(self, video, target_frames=64):\n",
    "        # get total frames of input video and calculate sampling interval \n",
    "        len_frames = int(len(video))\n",
    "        interval = int(np.ceil(len_frames/target_frames))\n",
    "        # init empty list for sampled video and \n",
    "        sampled_video = []\n",
    "        for i in range(0,len_frames,interval):\n",
    "            sampled_video.append(video[i])     \n",
    "        # calculate numer of padded frames and fix it \n",
    "        num_pad = target_frames - len(sampled_video)\n",
    "        if num_pad>0:\n",
    "            padding = [video[i] for i in range(-num_pad,0)]\n",
    "            sampled_video += padding     \n",
    "        # get sampled video\n",
    "        return np.array(sampled_video, dtype=np.float32)\n",
    "    \n",
    "    def dynamic_crop(self, video):\n",
    "        # extract layer of optical flow from video\n",
    "        opt_flows = video[...,3]\n",
    "        # sum of optical flow magnitude of individual frame\n",
    "        magnitude = np.sum(opt_flows, axis=0)\n",
    "        # filter slight noise by threshold \n",
    "        thresh = np.mean(magnitude)\n",
    "        magnitude[magnitude<thresh] = 0\n",
    "        # calculate center of gravity of magnitude map and adding 0.001 to avoid empty value\n",
    "        x_pdf = np.sum(magnitude, axis=1) + 0.001\n",
    "        y_pdf = np.sum(magnitude, axis=0) + 0.001\n",
    "        # normalize PDF of x and y so that the sum of probs = 1\n",
    "        x_pdf /= np.sum(x_pdf)\n",
    "        y_pdf /= np.sum(y_pdf)\n",
    "        # randomly choose some candidates for x and y \n",
    "        x_points = np.random.choice(a=np.arange(224), size=10, replace=True, p=x_pdf)\n",
    "        y_points = np.random.choice(a=np.arange(224), size=10, replace=True, p=y_pdf)\n",
    "        # get the mean of x and y coordinates for better robustness\n",
    "        x = int(np.mean(x_points))\n",
    "        y = int(np.mean(y_points))\n",
    "        # avoid to beyond boundaries of array\n",
    "        x = max(56,min(x,167))\n",
    "        y = max(56,min(y,167))\n",
    "        # get cropped video \n",
    "        return video[:,x-56:x+56,y-56:y+56,:]  \n",
    "    \n",
    "    def color_jitter(self,video):\n",
    "        # range of s-component: 0-1\n",
    "        # range of v component: 0-255\n",
    "        s_jitter = np.random.uniform(-0.2,0.2)\n",
    "        v_jitter = np.random.uniform(-30,30)\n",
    "        for i in range(len(video)):\n",
    "            hsv = cv2.cvtColor(video[i], cv2.COLOR_RGB2HSV)\n",
    "            s = hsv[...,1] + s_jitter\n",
    "            v = hsv[...,2] + v_jitter\n",
    "            s[s<0] = 0\n",
    "            s[s>1] = 1\n",
    "            v[v<0] = 0\n",
    "            v[v>255] = 255\n",
    "            hsv[...,1] = s\n",
    "            hsv[...,2] = v\n",
    "            video[i] = cv2.cvtColor(hsv, cv2.COLOR_HSV2RGB)\n",
    "        return video\n",
    "        \n",
    "    def load_data(self, path):\n",
    "        data = np.load(path, mmap_mode='r')[...,:3]\n",
    "        data = np.float32(data)\n",
    "        # sampling 64 frames uniformly from the entire video\n",
    "        data = self.uniform_sampling(video=data, target_frames=64)\n",
    "        # whether to utilize the data augmentation\n",
    "        if  self.data_aug:\n",
    "            data = self.color_jitter(data)\n",
    "            data = self.random_flip(data, prob=0.5)\n",
    "        # normalize\n",
    "        data = self.normalize(data)\n",
    "        return data"
   ]
  },
  {
   "cell_type": "markdown",
   "metadata": {},
   "source": [
    "# Build the model"
   ]
  },
  {
   "cell_type": "code",
   "execution_count": 8,
   "metadata": {},
   "outputs": [
    {
     "name": "stdout",
     "output_type": "stream",
     "text": [
      "Model: \"model\"\n",
      "_________________________________________________________________\n",
      "Layer (type)                 Output Shape              Param #   \n",
      "=================================================================\n",
      "input_1 (InputLayer)         [(None, 64, 224, 224, 3)] 0         \n",
      "_________________________________________________________________\n",
      "conv3d (Conv3D)              (None, 64, 224, 224, 16)  448       \n",
      "_________________________________________________________________\n",
      "conv3d_1 (Conv3D)            (None, 64, 224, 224, 16)  784       \n",
      "_________________________________________________________________\n",
      "max_pooling3d (MaxPooling3D) (None, 64, 112, 112, 16)  0         \n",
      "_________________________________________________________________\n",
      "conv3d_2 (Conv3D)            (None, 64, 112, 112, 16)  2320      \n",
      "_________________________________________________________________\n",
      "conv3d_3 (Conv3D)            (None, 64, 112, 112, 16)  784       \n",
      "_________________________________________________________________\n",
      "max_pooling3d_1 (MaxPooling3 (None, 64, 56, 56, 16)    0         \n",
      "_________________________________________________________________\n",
      "conv3d_4 (Conv3D)            (None, 64, 56, 56, 32)    4640      \n",
      "_________________________________________________________________\n",
      "conv3d_5 (Conv3D)            (None, 64, 56, 56, 32)    3104      \n",
      "_________________________________________________________________\n",
      "max_pooling3d_2 (MaxPooling3 (None, 64, 28, 28, 32)    0         \n",
      "_________________________________________________________________\n",
      "conv3d_6 (Conv3D)            (None, 64, 28, 28, 32)    9248      \n",
      "_________________________________________________________________\n",
      "conv3d_7 (Conv3D)            (None, 64, 28, 28, 32)    3104      \n",
      "_________________________________________________________________\n",
      "max_pooling3d_3 (MaxPooling3 (None, 64, 14, 14, 32)    0         \n",
      "_________________________________________________________________\n",
      "max_pooling3d_4 (MaxPooling3 (None, 8, 14, 14, 32)     0         \n",
      "_________________________________________________________________\n",
      "conv3d_8 (Conv3D)            (None, 8, 14, 14, 64)     18496     \n",
      "_________________________________________________________________\n",
      "conv3d_9 (Conv3D)            (None, 8, 14, 14, 64)     12352     \n",
      "_________________________________________________________________\n",
      "max_pooling3d_5 (MaxPooling3 (None, 4, 7, 7, 64)       0         \n",
      "_________________________________________________________________\n",
      "conv3d_10 (Conv3D)           (None, 4, 7, 7, 64)       36928     \n",
      "_________________________________________________________________\n",
      "conv3d_11 (Conv3D)           (None, 4, 7, 7, 64)       12352     \n",
      "_________________________________________________________________\n",
      "max_pooling3d_6 (MaxPooling3 (None, 2, 3, 3, 64)       0         \n",
      "_________________________________________________________________\n",
      "conv3d_12 (Conv3D)           (None, 2, 3, 3, 128)      73856     \n",
      "_________________________________________________________________\n",
      "conv3d_13 (Conv3D)           (None, 2, 3, 3, 128)      49280     \n",
      "_________________________________________________________________\n",
      "max_pooling3d_7 (MaxPooling3 (None, 1, 1, 1, 128)      0         \n",
      "_________________________________________________________________\n",
      "flatten (Flatten)            (None, 128)               0         \n",
      "_________________________________________________________________\n",
      "dense (Dense)                (None, 128)               16512     \n",
      "_________________________________________________________________\n",
      "dropout (Dropout)            (None, 128)               0         \n",
      "_________________________________________________________________\n",
      "dense_1 (Dense)              (None, 32)                4128      \n",
      "_________________________________________________________________\n",
      "dense_2 (Dense)              (None, 2)                 66        \n",
      "=================================================================\n",
      "Total params: 248,402\n",
      "Trainable params: 248,402\n",
      "Non-trainable params: 0\n",
      "_________________________________________________________________\n"
     ]
    }
   ],
   "source": [
    "inputs = Input(shape=(64,224,224,3))\n",
    "\n",
    "#####################################################\n",
    "rgb = inputs\n",
    "rgb = Conv3D(\n",
    "    16, kernel_size=(1,3,3), strides=(1,1,1), kernel_initializer='he_normal', activation='relu', padding='same')(rgb)\n",
    "rgb = Conv3D(\n",
    "    16, kernel_size=(3,1,1), strides=(1,1,1), kernel_initializer='he_normal', activation='relu', padding='same')(rgb)\n",
    "rgb = MaxPooling3D(pool_size=(1,2,2))(rgb)\n",
    "\n",
    "rgb = Conv3D(\n",
    "    16, kernel_size=(1,3,3), strides=(1,1,1), kernel_initializer='he_normal', activation='relu', padding='same')(rgb)\n",
    "rgb = Conv3D(\n",
    "    16, kernel_size=(3,1,1), strides=(1,1,1), kernel_initializer='he_normal', activation='relu', padding='same')(rgb)\n",
    "rgb = MaxPooling3D(pool_size=(1,2,2))(rgb)\n",
    "\n",
    "rgb = Conv3D(\n",
    "    32, kernel_size=(1,3,3), strides=(1,1,1), kernel_initializer='he_normal', activation='relu', padding='same')(rgb)\n",
    "rgb = Conv3D(\n",
    "    32, kernel_size=(3,1,1), strides=(1,1,1), kernel_initializer='he_normal', activation='relu', padding='same')(rgb)\n",
    "rgb = MaxPooling3D(pool_size=(1,2,2))(rgb)\n",
    "\n",
    "rgb = Conv3D(\n",
    "    32, kernel_size=(1,3,3), strides=(1,1,1), kernel_initializer='he_normal', activation='relu', padding='same')(rgb)\n",
    "rgb = Conv3D(\n",
    "    32, kernel_size=(3,1,1), strides=(1,1,1), kernel_initializer='he_normal', activation='relu', padding='same')(rgb)\n",
    "rgb = MaxPooling3D(pool_size=(1,2,2))(rgb)\n",
    "\n",
    "#####################################################\n",
    "x = MaxPooling3D(pool_size=(8,1,1))(rgb)\n",
    "\n",
    "#####################################################\n",
    "x = Conv3D(\n",
    "    64, kernel_size=(1,3,3), strides=(1,1,1), kernel_initializer='he_normal', activation='relu', padding='same')(x)\n",
    "x = Conv3D(\n",
    "    64, kernel_size=(3,1,1), strides=(1,1,1), kernel_initializer='he_normal', activation='relu', padding='same')(x)\n",
    "x = MaxPooling3D(pool_size=(2,2,2))(x)\n",
    "\n",
    "x = Conv3D(\n",
    "    64, kernel_size=(1,3,3), strides=(1,1,1), kernel_initializer='he_normal', activation='relu', padding='same')(x)\n",
    "x = Conv3D(\n",
    "    64, kernel_size=(3,1,1), strides=(1,1,1), kernel_initializer='he_normal', activation='relu', padding='same')(x)\n",
    "x = MaxPooling3D(pool_size=(2,2,2))(x)\n",
    "\n",
    "x = Conv3D(\n",
    "    128, kernel_size=(1,3,3), strides=(1,1,1), kernel_initializer='he_normal', activation='relu', padding='same')(x)\n",
    "x = Conv3D(\n",
    "    128, kernel_size=(3,1,1), strides=(1,1,1), kernel_initializer='he_normal', activation='relu', padding='same')(x)\n",
    "x = MaxPooling3D(pool_size=(2,3,3))(x)\n",
    "\n",
    "#####################################################\n",
    "x = Flatten()(x)\n",
    "x = Dense(128,activation='relu')(x)\n",
    "x = Dropout(0.2)(x)\n",
    "x = Dense(32, activation='relu')(x)\n",
    "pred = Dense(2, activation='softmax')(x)\n",
    "\n",
    "model = Model(inputs=inputs, outputs=pred)\n",
    "\n",
    "model.summary()"
   ]
  },
  {
   "cell_type": "markdown",
   "metadata": {},
   "source": [
    "## Callbacks"
   ]
  },
  {
   "cell_type": "code",
   "execution_count": 9,
   "metadata": {},
   "outputs": [],
   "source": [
    "def scheduler(epoch):\n",
    "    # Every 10 epochs, the learning rate is reduced to 1/10 of the original\n",
    "    if epoch % 10 == 0 and epoch != 0:\n",
    "        lr = K.get_value(model.optimizer.lr)\n",
    "        K.set_value(model.optimizer.lr, lr * 0.5)\n",
    "    return K.get_value(model.optimizer.lr)\n",
    "\n",
    "reduce_lr = LearningRateScheduler(scheduler)\n",
    "\n",
    "#OJO ACA PODEMOS AGREGAR OTROS DE EARLY STOPPING O GUARDAR MODELO"
   ]
  },
  {
   "cell_type": "markdown",
   "metadata": {},
   "source": [
    "Set the GPUs and make it parallel"
   ]
  },
  {
   "cell_type": "code",
   "execution_count": 10,
   "metadata": {},
   "outputs": [],
   "source": [
    "#only with cuda\n",
    "#os.environ[\"CUDA_VISIBLE_DEVICES\"] = \"0,1,2,3\"\n",
    "\n",
    "\n",
    "#parallel_model = multi_gpu_model(model, gpus=1)\n",
    "\n",
    "# from tensorflow.python.client import device_lib\n",
    "# print(device_lib.list_local_devices())"
   ]
  },
  {
   "cell_type": "code",
   "execution_count": 11,
   "metadata": {},
   "outputs": [],
   "source": [
    "#otra forma\n",
    "# parallel_model = tf.distribute.MirroredStrategy(devices=[\"/gpu:0\", \"/gpu:1\"], \n",
    "#                                          cross_device_ops=tf.distribute.HierarchicalCopyAllReduce())"
   ]
  },
  {
   "cell_type": "code",
   "execution_count": 12,
   "metadata": {},
   "outputs": [],
   "source": [
    "# from keras.callbacks import ModelCheckpoint, CSVLogger\n",
    "# import keras\n",
    "\n",
    "# class MyCbk(keras.callbacks.Callback):\n",
    "\n",
    "#     def __init__(self, model):\n",
    "#          self.model_to_save = model\n",
    "\n",
    "#     def on_epoch_end(self, epoch, logs=None):\n",
    "#         self.model_to_save.save('Logs/model_at_epoch_%d.h5' % (epoch+1))\n",
    "\n",
    "# check_point = MyCbk(model)"
   ]
  },
  {
   "cell_type": "code",
   "execution_count": 13,
   "metadata": {},
   "outputs": [],
   "source": [
    "#callbacks_list = [check_point, reduce_lr]\n",
    "callbacks_list = [reduce_lr]"
   ]
  },
  {
   "cell_type": "markdown",
   "metadata": {},
   "source": [
    "## Model compilling"
   ]
  },
  {
   "cell_type": "code",
   "execution_count": 14,
   "metadata": {},
   "outputs": [],
   "source": [
    "adam = Adam(lr=0.01, beta_1=0.9, beta_2=0.999, epsilon=1e-8)\n",
    "sgd = SGD(lr=0.01, decay=1e-6, momentum=0.9, nesterov=True)\n",
    "\n",
    "#with strategy.scope():\n",
    "model.compile(optimizer=sgd, loss='categorical_crossentropy', metrics=['accuracy'])"
   ]
  },
  {
   "cell_type": "code",
   "execution_count": 15,
   "metadata": {},
   "outputs": [],
   "source": [
    "#set parameters\n",
    "num_epochs  = 50\n",
    "num_workers = 16\n",
    "batch_size  = 3"
   ]
  },
  {
   "cell_type": "code",
   "execution_count": 16,
   "metadata": {},
   "outputs": [
    {
     "data": {
      "text/plain": [
       "True"
      ]
     },
     "execution_count": 16,
     "metadata": {},
     "output_type": "execute_result"
    }
   ],
   "source": [
    "#directory\n",
    "#os.getcwd()\n",
    "os.path.exists('C:/Users/61402/Documents/UTS/GitHub/violence_detection/anaconda_scripts/validation')\n",
    "\n",
    "#OneDrive/UTS03 Assigments 3/RWF-2000"
   ]
  },
  {
   "cell_type": "code",
   "execution_count": 17,
   "metadata": {},
   "outputs": [
    {
     "name": "stdout",
     "output_type": "stream",
     "text": [
      "Found 1207 files belonging to 2 classes.\n",
      "     Fight :  0\n",
      "  NonFight :  1\n",
      "Found 393 files belonging to 2 classes.\n",
      "     Fight :  0\n",
      "  NonFight :  1\n"
     ]
    }
   ],
   "source": [
    "#datasets\n",
    "#dataset = 'RWF2000-opt'\n",
    "path_train = 'C:/Users/61402/Documents/UTS/GitHub/violence_detection/anaconda_scripts/train'\n",
    "path_test = 'C:/Users/61402/Documents/UTS/GitHub/violence_detection/anaconda_scripts/validation'\n",
    "\n",
    "train_generator = DataGenerator(directory=path_train, \n",
    "                                batch_size=batch_size, \n",
    "                                data_augmentation=True)\n",
    "\n",
    "val_generator = DataGenerator(directory=path_test,\n",
    "                              batch_size=batch_size, \n",
    "                              data_augmentation=False)\n"
   ]
  },
  {
   "cell_type": "code",
   "execution_count": 18,
   "metadata": {},
   "outputs": [
    {
     "name": "stdout",
     "output_type": "stream",
     "text": [
      "Epoch 1/50\n",
      "403/403 [==============================] - 394s 948ms/step - loss: 1.9437 - accuracy: 0.4774 - val_loss: 0.6933 - val_accuracy: 0.4987\n",
      "Epoch 2/50\n",
      "403/403 [==============================] - 385s 953ms/step - loss: 0.6953 - accuracy: 0.4942 - val_loss: 0.6980 - val_accuracy: 0.5013\n",
      "Epoch 3/50\n",
      "403/403 [==============================] - 387s 959ms/step - loss: 0.7004 - accuracy: 0.4884 - val_loss: 0.7080 - val_accuracy: 0.4987\n",
      "Epoch 4/50\n",
      "403/403 [==============================] - 397s 985ms/step - loss: 0.6989 - accuracy: 0.4937 - val_loss: 0.6996 - val_accuracy: 0.5013\n",
      "Epoch 5/50\n",
      "403/403 [==============================] - 386s 956ms/step - loss: 0.6979 - accuracy: 0.4902 - val_loss: 0.6934 - val_accuracy: 0.5013\n",
      "Epoch 6/50\n",
      "403/403 [==============================] - 385s 953ms/step - loss: 0.6954 - accuracy: 0.5259 - val_loss: 0.7036 - val_accuracy: 0.4987\n",
      "Epoch 7/50\n",
      "403/403 [==============================] - 385s 955ms/step - loss: 0.7010 - accuracy: 0.4883 - val_loss: 0.6935 - val_accuracy: 0.4987\n",
      "Epoch 8/50\n",
      "403/403 [==============================] - 391s 970ms/step - loss: 0.6990 - accuracy: 0.5025 - val_loss: 0.6931 - val_accuracy: 0.4987\n",
      "Epoch 9/50\n",
      "403/403 [==============================] - 386s 957ms/step - loss: 0.6952 - accuracy: 0.4943 - val_loss: 0.6942 - val_accuracy: 0.4987\n",
      "Epoch 10/50\n",
      "403/403 [==============================] - 389s 965ms/step - loss: 0.6963 - accuracy: 0.4990 - val_loss: 0.6934 - val_accuracy: 0.4987\n",
      "Epoch 11/50\n",
      "403/403 [==============================] - 389s 965ms/step - loss: 0.6959 - accuracy: 0.4951 - val_loss: 0.6933 - val_accuracy: 0.5013\n",
      "Epoch 12/50\n",
      "403/403 [==============================] - 391s 971ms/step - loss: 0.6934 - accuracy: 0.5327 - val_loss: 0.6937 - val_accuracy: 0.5013\n",
      "Epoch 13/50\n",
      "403/403 [==============================] - 391s 968ms/step - loss: 0.6943 - accuracy: 0.4778 - val_loss: 0.6963 - val_accuracy: 0.4987\n",
      "Epoch 14/50\n",
      "403/403 [==============================] - 391s 969ms/step - loss: 0.6961 - accuracy: 0.4927 - val_loss: 0.6934 - val_accuracy: 0.5013\n",
      "Epoch 15/50\n",
      "403/403 [==============================] - 391s 970ms/step - loss: 0.6947 - accuracy: 0.4548 - val_loss: 0.6948 - val_accuracy: 0.5013\n",
      "Epoch 16/50\n",
      "403/403 [==============================] - 392s 973ms/step - loss: 0.6979 - accuracy: 0.4812 - val_loss: 0.6938 - val_accuracy: 0.5013\n",
      "Epoch 17/50\n",
      "403/403 [==============================] - 389s 964ms/step - loss: 0.6985 - accuracy: 0.4714 - val_loss: 0.6932 - val_accuracy: 0.5013\n",
      "Epoch 18/50\n",
      "403/403 [==============================] - 389s 965ms/step - loss: 0.6925 - accuracy: 0.5360 - val_loss: 0.6931 - val_accuracy: 0.5013\n",
      "Epoch 19/50\n",
      "403/403 [==============================] - 389s 965ms/step - loss: 0.6945 - accuracy: 0.5196 - val_loss: 0.6936 - val_accuracy: 0.5013\n",
      "Epoch 20/50\n",
      "403/403 [==============================] - 390s 966ms/step - loss: 0.6950 - accuracy: 0.4991 - val_loss: 0.6952 - val_accuracy: 0.4987\n",
      "Epoch 21/50\n",
      "403/403 [==============================] - 393s 974ms/step - loss: 0.6947 - accuracy: 0.5050 - val_loss: 0.6932 - val_accuracy: 0.5013\n",
      "Epoch 22/50\n",
      "403/403 [==============================] - 390s 967ms/step - loss: 0.6947 - accuracy: 0.4796 - val_loss: 0.6932 - val_accuracy: 0.4987\n",
      "Epoch 23/50\n",
      "403/403 [==============================] - 390s 966ms/step - loss: 0.6941 - accuracy: 0.5029 - val_loss: 0.6933 - val_accuracy: 0.4987\n",
      "Epoch 24/50\n",
      "403/403 [==============================] - 387s 960ms/step - loss: 0.6941 - accuracy: 0.5037 - val_loss: 0.6949 - val_accuracy: 0.5013\n",
      "Epoch 25/50\n",
      "403/403 [==============================] - 389s 963ms/step - loss: 0.6959 - accuracy: 0.4758 - val_loss: 0.6935 - val_accuracy: 0.4987\n",
      "Epoch 26/50\n",
      "403/403 [==============================] - 386s 958ms/step - loss: 0.6950 - accuracy: 0.4773 - val_loss: 0.6931 - val_accuracy: 0.4987\n",
      "Epoch 27/50\n",
      "403/403 [==============================] - 389s 964ms/step - loss: 0.6941 - accuracy: 0.5012 - val_loss: 0.6932 - val_accuracy: 0.4987\n",
      "Epoch 28/50\n",
      "403/403 [==============================] - 387s 959ms/step - loss: 0.6943 - accuracy: 0.4941 - val_loss: 0.6939 - val_accuracy: 0.4987\n",
      "Epoch 29/50\n",
      "403/403 [==============================] - 387s 960ms/step - loss: 0.6933 - accuracy: 0.5126 - val_loss: 0.7013 - val_accuracy: 0.4987\n",
      "Epoch 30/50\n",
      "403/403 [==============================] - 388s 962ms/step - loss: 0.6977 - accuracy: 0.4867 - val_loss: 0.6932 - val_accuracy: 0.4987\n",
      "Epoch 31/50\n",
      "403/403 [==============================] - 389s 966ms/step - loss: 0.6938 - accuracy: 0.5042 - val_loss: 0.6932 - val_accuracy: 0.4987\n",
      "Epoch 32/50\n",
      "403/403 [==============================] - 391s 969ms/step - loss: 0.6936 - accuracy: 0.4907 - val_loss: 0.6932 - val_accuracy: 0.4987\n",
      "Epoch 33/50\n",
      "403/403 [==============================] - 390s 968ms/step - loss: 0.6936 - accuracy: 0.5071 - val_loss: 0.6932 - val_accuracy: 0.5013\n",
      "Epoch 34/50\n",
      "403/403 [==============================] - 393s 974ms/step - loss: 0.6935 - accuracy: 0.4928 - val_loss: 0.6933 - val_accuracy: 0.5013\n",
      "Epoch 35/50\n",
      "403/403 [==============================] - 390s 967ms/step - loss: 0.6938 - accuracy: 0.4951 - val_loss: 0.6934 - val_accuracy: 0.4987\n",
      "Epoch 36/50\n",
      "403/403 [==============================] - 390s 967ms/step - loss: 0.6926 - accuracy: 0.5191 - val_loss: 0.6933 - val_accuracy: 0.5013\n",
      "Epoch 37/50\n",
      "403/403 [==============================] - 393s 972ms/step - loss: 0.6929 - accuracy: 0.5190 - val_loss: 0.6940 - val_accuracy: 0.4987\n",
      "Epoch 38/50\n",
      "403/403 [==============================] - 386s 956ms/step - loss: 0.6957 - accuracy: 0.4532 - val_loss: 0.6932 - val_accuracy: 0.4987\n",
      "Epoch 39/50\n",
      "403/403 [==============================] - 391s 970ms/step - loss: 0.6937 - accuracy: 0.4829 - val_loss: 0.6933 - val_accuracy: 0.5013\n",
      "Epoch 40/50\n",
      "403/403 [==============================] - 388s 962ms/step - loss: 0.6937 - accuracy: 0.5087 - val_loss: 0.6932 - val_accuracy: 0.4987\n",
      "Epoch 41/50\n",
      "403/403 [==============================] - 392s 971ms/step - loss: 0.6939 - accuracy: 0.4720 - val_loss: 0.6932 - val_accuracy: 0.4987\n",
      "Epoch 42/50\n",
      "403/403 [==============================] - 388s 962ms/step - loss: 0.6936 - accuracy: 0.4626 - val_loss: 0.6932 - val_accuracy: 0.4987\n",
      "Epoch 43/50\n",
      "403/403 [==============================] - 409s 1s/step - loss: 0.6936 - accuracy: 0.4787 - val_loss: 0.6932 - val_accuracy: 0.4987\n",
      "Epoch 44/50\n",
      "403/403 [==============================] - 386s 958ms/step - loss: 0.6934 - accuracy: 0.5074 - val_loss: 0.6931 - val_accuracy: 0.5013\n",
      "Epoch 45/50\n",
      "403/403 [==============================] - 389s 966ms/step - loss: 0.6932 - accuracy: 0.5024 - val_loss: 0.6933 - val_accuracy: 0.4987\n",
      "Epoch 46/50\n",
      "403/403 [==============================] - 392s 971ms/step - loss: 0.6936 - accuracy: 0.4909 - val_loss: 0.6931 - val_accuracy: 0.5013\n",
      "Epoch 47/50\n",
      "403/403 [==============================] - 390s 968ms/step - loss: 0.6934 - accuracy: 0.4944 - val_loss: 0.6932 - val_accuracy: 0.4987\n",
      "Epoch 48/50\n",
      "403/403 [==============================] - 391s 970ms/step - loss: 0.6935 - accuracy: 0.4845 - val_loss: 0.6932 - val_accuracy: 0.4987\n",
      "Epoch 49/50\n",
      "403/403 [==============================] - 395s 980ms/step - loss: 0.6932 - accuracy: 0.5178 - val_loss: 0.6931 - val_accuracy: 0.5013\n",
      "Epoch 50/50\n",
      "403/403 [==============================] - 397s 984ms/step - loss: 0.6934 - accuracy: 0.4969 - val_loss: 0.6932 - val_accuracy: 0.4987\n"
     ]
    }
   ],
   "source": [
    "#start training\n",
    "hist = model.fit_generator(\n",
    "    generator=train_generator, \n",
    "    validation_data=val_generator,\n",
    "    callbacks=callbacks_list,\n",
    "    verbose=1, \n",
    "    epochs=num_epochs,\n",
    "   # workers=num_workers,\n",
    "    max_queue_size=8,\n",
    "    steps_per_epoch=len(train_generator),\n",
    "    validation_steps=len(val_generator))"
   ]
  },
  {
   "cell_type": "code",
   "execution_count": 19,
   "metadata": {},
   "outputs": [],
   "source": [
    "# conda list"
   ]
  },
  {
   "cell_type": "code",
   "execution_count": 20,
   "metadata": {},
   "outputs": [],
   "source": [
    "model.save('Logs/model_at_epoch_final.h5')"
   ]
  },
  {
   "cell_type": "markdown",
   "metadata": {},
   "source": [
    "## Look the results"
   ]
  },
  {
   "cell_type": "code",
   "execution_count": 21,
   "metadata": {},
   "outputs": [
    {
     "data": {
      "image/png": "[encoded data removed]",
      "text/plain": [
       "<Figure size 432x288 with 1 Axes>"
      ]
     },
     "metadata": {
      "needs_background": "light"
     },
     "output_type": "display_data"
    },
    {
     "data": {
      "image/png": "[encoded data removed]",
      "text/plain": [
       "<Figure size 432x288 with 1 Axes>"
      ]
     },
     "metadata": {
      "needs_background": "light"
     },
     "output_type": "display_data"
    }
   ],
   "source": [
    "acc = hist.history['accuracy']\n",
    "val_acc = hist.history['val_accuracy']\n",
    "loss = hist.history['loss']\n",
    "val_loss = hist.history['val_loss']\n",
    "\n",
    "epochs = range(len(acc))\n",
    "\n",
    "plt.plot(epochs, acc, 'bo', label='Training accuracy')\n",
    "plt.plot(epochs, val_acc, 'b', label='Validation accuracy')\n",
    "plt.title('Training and validation accuracy')\n",
    "plt.ylabel('Accuracy')\n",
    "plt.xlabel('Epochs')\n",
    "\n",
    "plt.figure()\n",
    "\n",
    "plt.plot(epochs, loss, 'bo', label='Training Loss')\n",
    "plt.plot(epochs, val_loss, 'b', label='Validation Loss')\n",
    "plt.title('Training and validation loss')\n",
    "plt.legend()\n",
    "plt.ylabel('cost')\n",
    "plt.xlabel('Epochs')\n",
    "\n",
    "plt.show()"
   ]
  }
 ],
 "metadata": {
  "kernelspec": {
   "display_name": "Python 3",
   "language": "python",
   "name": "python3"
  },
  "language_info": {
   "codemirror_mode": {
    "name": "ipython",
    "version": 3
   },
   "file_extension": ".py",
   "mimetype": "text/x-python",
   "name": "python",
   "nbconvert_exporter": "python",
   "pygments_lexer": "ipython3",
   "version": "3.7.10"
  }
 },
 "nbformat": 4,
 "nbformat_minor": 4
}
