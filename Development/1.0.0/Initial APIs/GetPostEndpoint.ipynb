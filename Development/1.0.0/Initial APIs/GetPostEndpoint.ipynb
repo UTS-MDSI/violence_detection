{
 "cells": [
  {
   "cell_type": "code",
   "execution_count": 1,
   "id": "fc0a4807",
   "metadata": {},
   "outputs": [
    {
     "name": "stdout",
     "output_type": "stream",
     "text": [
      "Collecting Flask==2.0.1\n",
      "  Downloading Flask-2.0.1-py3-none-any.whl (94 kB)\n",
      "\u001b[K     |████████████████████████████████| 94 kB 3.4 MB/s eta 0:00:011\n",
      "\u001b[?25hCollecting Werkzeug>=2.0\n",
      "  Downloading Werkzeug-2.0.1-py3-none-any.whl (288 kB)\n",
      "\u001b[K     |████████████████████████████████| 288 kB 12.3 MB/s eta 0:00:01\n",
      "\u001b[?25hCollecting itsdangerous>=2.0\n",
      "  Downloading itsdangerous-2.0.1-py3-none-any.whl (18 kB)\n",
      "Requirement already satisfied: click>=7.1.2 in /opt/conda/lib/python3.7/site-packages (from Flask==2.0.1) (7.1.2)\n",
      "Collecting Jinja2>=3.0\n",
      "  Downloading Jinja2-3.0.1-py3-none-any.whl (133 kB)\n",
      "\u001b[K     |████████████████████████████████| 133 kB 15.2 MB/s eta 0:00:01\n",
      "\u001b[?25hCollecting MarkupSafe>=2.0\n",
      "  Downloading MarkupSafe-2.0.1-cp37-cp37m-manylinux2010_x86_64.whl (31 kB)\n",
      "Installing collected packages: MarkupSafe, Werkzeug, Jinja2, itsdangerous, Flask\n",
      "  Attempting uninstall: MarkupSafe\n",
      "    Found existing installation: MarkupSafe 1.1.1\n",
      "    Uninstalling MarkupSafe-1.1.1:\n",
      "      Successfully uninstalled MarkupSafe-1.1.1\n",
      "  Attempting uninstall: Jinja2\n",
      "    Found existing installation: Jinja2 2.11.3\n",
      "    Uninstalling Jinja2-2.11.3:\n",
      "      Successfully uninstalled Jinja2-2.11.3\n",
      "\u001b[31mERROR: pip's dependency resolver does not currently take into account all the packages that are installed. This behaviour is the source of the following dependency conflicts.\n",
      "jupyterlab-git 0.11.0 requires nbdime<2.0.0,>=1.1.0, but you have nbdime 3.0.0 which is incompatible.\n",
      "cookiecutter 1.7.2 requires Jinja2<3.0.0, but you have jinja2 3.0.1 which is incompatible.\n",
      "cookiecutter 1.7.2 requires MarkupSafe<2.0.0, but you have markupsafe 2.0.1 which is incompatible.\u001b[0m\n",
      "Successfully installed Flask-2.0.1 Jinja2-3.0.1 MarkupSafe-2.0.1 Werkzeug-2.0.1 itsdangerous-2.0.1\n",
      "Note: you may need to restart the kernel to use updated packages.\n"
     ]
    }
   ],
   "source": [
    "pip install Flask==2.0.1"
   ]
  },
  {
   "cell_type": "code",
   "execution_count": null,
   "id": "f50132a4",
   "metadata": {},
   "outputs": [
    {
     "name": "stdout",
     "output_type": "stream",
     "text": [
      " * Serving Flask app '__main__' (lazy loading)\n",
      " * Environment: production\n",
      "\u001b[31m   WARNING: This is a development server. Do not use it in a production deployment.\u001b[0m\n",
      "\u001b[2m   Use a production WSGI server instead.\u001b[0m\n",
      " * Debug mode: off\n"
     ]
    },
    {
     "name": "stderr",
     "output_type": "stream",
     "text": [
      " * Running on all addresses.\n",
      "   WARNING: This is a development server. Do not use it in a production deployment.\n",
      " * Running on http://10.138.0.2:5000/ (Press CTRL+C to quit)\n",
      "186.147.152.185 - - [29/May/2021 04:59:17] \"PUT /newinfo HTTP/1.1\" 200 -\n",
      "186.147.152.185 - - [29/May/2021 04:59:42] \"GET / HTTP/1.1\" 200 -\n",
      "3.88.68.0 - - [29/May/2021 05:00:22] \"GET / HTTP/1.1\" 200 -\n",
      "218.214.158.65 - - [29/May/2021 05:00:59] \"GET / HTTP/1.1\" 200 -\n",
      "3.85.92.91 - - [29/May/2021 05:01:41] \"GET /BLABLA HTTP/1.1\" 405 -\n",
      "186.147.152.185 - - [29/May/2021 05:02:08] \"GET / HTTP/1.1\" 200 -\n",
      "218.214.158.65 - - [29/May/2021 05:02:16] \"GET /HolaAna HTTP/1.1\" 405 -\n",
      "186.147.152.185 - - [29/May/2021 05:02:25] \"GET / HTTP/1.1\" 200 -\n",
      "218.214.158.65 - - [29/May/2021 05:02:32] \"POST /HolaAna HTTP/1.1\" 405 -\n",
      "186.147.152.185 - - [29/May/2021 05:02:39] \"GET / HTTP/1.1\" 200 -\n",
      "218.214.158.65 - - [29/May/2021 05:02:54] \"POST /HolaAna HTTP/1.1\" 405 -\n",
      "186.147.152.185 - - [29/May/2021 05:03:02] \"GET / HTTP/1.1\" 200 -\n",
      "218.214.158.65 - - [29/May/2021 05:03:19] \"POST /%22HolaAna%22 HTTP/1.1\" 405 -\n",
      "3.80.199.168 - - [29/May/2021 05:03:37] \"GET /pruebita HTTP/1.1\" 405 -\n",
      "186.147.152.185 - - [29/May/2021 05:03:40] \"GET / HTTP/1.1\" 200 -\n",
      "218.214.158.65 - - [29/May/2021 05:04:10] \"PUT /pruebita HTTP/1.1\" 200 -\n",
      "186.147.152.185 - - [29/May/2021 05:04:28] \"GET / HTTP/1.1\" 200 -\n",
      "186.147.152.185 - - [29/May/2021 05:07:10] \"PUT /wala HTTP/1.1\" 200 -\n",
      "186.147.152.185 - - [29/May/2021 05:07:13] \"GET / HTTP/1.1\" 200 -\n"
     ]
    }
   ],
   "source": [
    "from flask import Flask, request, abort\n",
    "app = Flask(__name__)\n",
    "\n",
    "detections = {\"Hello Javi\": \"Changed response\"}\n",
    "\n",
    "@app.route('/', methods=['GET'])\n",
    "def hello_world():\n",
    "    return detections\n",
    "\n",
    "\n",
    "@app.route('/<string:current_detection>', methods=['PUT'])\n",
    "def update_detection(current_detection):\n",
    "    detections['Hello Javi'] = current_detection\n",
    "    return detections\n",
    "\n",
    "app.run(host='0.0.0.0' , port=5000)"
   ]
  },
  {
   "cell_type": "code",
   "execution_count": null,
   "id": "b34acd55",
   "metadata": {},
   "outputs": [],
   "source": [
    "http://104.196.230.37:5000/ \n",
    "         "
   ]
  }
 ],
 "metadata": {
  "environment": {
   "name": "common-cpu.m69",
   "type": "gcloud",
   "uri": "gcr.io/deeplearning-platform-release/base-cpu:m69"
  },
  "kernelspec": {
   "display_name": "Python 3",
   "language": "python",
   "name": "python3"
  },
  "language_info": {
   "codemirror_mode": {
    "name": "ipython",
    "version": 3
   },
   "file_extension": ".py",
   "mimetype": "text/x-python",
   "name": "python",
   "nbconvert_exporter": "python",
   "pygments_lexer": "ipython3",
   "version": "3.7.10"
  }
 },
 "nbformat": 4,
 "nbformat_minor": 5
}
