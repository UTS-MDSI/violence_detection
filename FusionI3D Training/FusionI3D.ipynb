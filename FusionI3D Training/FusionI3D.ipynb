{
 "cells": [
  {
   "cell_type": "code",
   "execution_count": 1,
   "id": "b818c186",
   "metadata": {},
   "outputs": [],
   "source": [
    "import tensorflow as tf\n",
    "import numpy as np\n",
    "\n",
    "# Layers\n",
    "from tensorflow.keras.layers import Dropout #\n",
    "from tensorflow.keras.layers import Reshape #\n",
    "from tensorflow.keras.layers import Lambda #\n",
    "from tensorflow.keras.layers import Input #\n",
    "from tensorflow.keras.layers import Conv3D #\n",
    "from tensorflow.keras.layers import Activation #\n",
    "from tensorflow.keras.layers import Add #\n",
    "\n",
    "# Transformations\n",
    "from tensorflow.keras import backend as K\n",
    "\n",
    "# Model\n",
    "from tensorflow.keras import Model\n",
    "\n",
    "# RGB and FLOW networds\n",
    "from i3d_inception import Inception_Inflated3d\n",
    "\n",
    "#from tensorflow.python.client import device_lib\n",
    "#from tensorflow.keras import layers\n",
    "\n",
    "#from tensorflow.keras.callbacks import ModelCheckpoint\n",
    "#from tensorflow.keras.optimizers import SGD\n",
    "#from tensorflow.keras.optimizers import RMSprop\n",
    "#from tensorflow.keras.preprocessing.image import ImageDataGenerator\n",
    "\n",
    "\n",
    "#from tensorflow.keras import applications\n",
    "#from tensorflow.keras.preprocessing import image\n",
    "#from tensorflow.keras.preprocessing.image import \n",
    "\n",
    "#from tensorflow.keras import optimizers\n",
    "\n",
    "#import tensorflow as tf\n",
    "\n",
    "#Models\n",
    "#from tensorflow.keras.models import Model #\n",
    "#from tensorflow.keras.models import Sequential\n",
    "\n",
    "\n",
    "#from tensorflow.keras import models\n",
    "#from tensorflow.keras import optimizers\n",
    "#from tensorflow.keras.preprocessing import image"
   ]
  },
  {
   "cell_type": "markdown",
   "id": "74f7a43e",
   "metadata": {},
   "source": [
    "# Step 1: Creating input model"
   ]
  },
  {
   "cell_type": "code",
   "execution_count": 2,
   "id": "3a83ef39",
   "metadata": {},
   "outputs": [],
   "source": [
    "# Parameters for the model\n",
    "NUM_FRAMES = 79\n",
    "FRAME_HEIGHT = 224\n",
    "FRAME_WIDTH = 224\n",
    "NUM_RGB_CHANNELS = 3\n",
    "NUM_FLOW_CHANNELS = 2\n",
    "NUM_CLASSES = 2\n",
    "\n",
    "# Parameters\n",
    "dropout_prob = 0.0"
   ]
  },
  {
   "cell_type": "code",
   "execution_count": 3,
   "id": "8d6ee8ba",
   "metadata": {},
   "outputs": [],
   "source": [
    "def get_rgb(input_x):\n",
    "    rgb = input_x[...,:3]\n",
    "    return rgb\n",
    "\n",
    "# extract the optical flows (they are 2d vectors, the final 2)\n",
    "def get_opt(input_x):\n",
    "    opt= input_x[...,3:5]\n",
    "    return opt"
   ]
  },
  {
   "cell_type": "code",
   "execution_count": 4,
   "id": "34c9b2f5",
   "metadata": {},
   "outputs": [],
   "source": [
    "inputs = Input(shape=(None,FRAME_HEIGHT,FRAME_WIDTH,NUM_RGB_CHANNELS + NUM_FLOW_CHANNELS))\n",
    "rgb = Lambda(get_rgb,output_shape=None, name = 'rbg_branch')(inputs)\n",
    "opt = Lambda(get_opt,output_shape=None, name = 'opt_branch')(inputs)"
   ]
  },
  {
   "cell_type": "code",
   "execution_count": 5,
   "id": "c4edf5b3",
   "metadata": {},
   "outputs": [],
   "source": [
    "input_model = Model(inputs = [inputs], outputs = [rgb, opt])"
   ]
  },
  {
   "cell_type": "code",
   "execution_count": 6,
   "id": "23d101fe",
   "metadata": {},
   "outputs": [
    {
     "name": "stdout",
     "output_type": "stream",
     "text": [
      "Model: \"model\"\n",
      "______________________________________________________________________________________________________________________________________________________\n",
      "Layer (type)                                     Output Shape                     Param #           Connected to                                      \n",
      "======================================================================================================================================================\n",
      "input_1 (InputLayer)                             [(None, None, 224, 224, 5)]      0                                                                   \n",
      "______________________________________________________________________________________________________________________________________________________\n",
      "rbg_branch (Lambda)                              (None, None, 224, 224, 3)        0                 input_1[0][0]                                     \n",
      "______________________________________________________________________________________________________________________________________________________\n",
      "opt_branch (Lambda)                              (None, None, 224, 224, 2)        0                 input_1[0][0]                                     \n",
      "======================================================================================================================================================\n",
      "Total params: 0\n",
      "Trainable params: 0\n",
      "Non-trainable params: 0\n",
      "______________________________________________________________________________________________________________________________________________________\n"
     ]
    }
   ],
   "source": [
    "input_model.summary(line_length=150)"
   ]
  },
  {
   "cell_type": "markdown",
   "id": "19ff7ea2",
   "metadata": {},
   "source": [
    "# Step 2: Creating rgb and flow model"
   ]
  },
  {
   "cell_type": "code",
   "execution_count": 7,
   "id": "72b74c42",
   "metadata": {},
   "outputs": [
    {
     "name": "stdout",
     "output_type": "stream",
     "text": [
      "Downloading data from https://github.com/dlpbc/keras-kinetics-i3d/releases/download/v0.2/rgb_inception_i3d_imagenet_and_kinetics_tf_dim_ordering_tf_kernels_no_top.h5\n",
      "49602560/49595336 [==============================] - 1s 0us/step\n"
     ]
    }
   ],
   "source": [
    "rgb_model = Inception_Inflated3d(\n",
    "                include_top=False,\n",
    "                weights='rgb_imagenet_and_kinetics',\n",
    "                input_tensor=None,\n",
    "                input_shape=(None, FRAME_HEIGHT, FRAME_WIDTH, NUM_RGB_CHANNELS), \n",
    "                classes=NUM_CLASSES,\n",
    "                prefix = 'rgb_')"
   ]
  },
  {
   "cell_type": "code",
   "execution_count": 8,
   "id": "40dbaf61",
   "metadata": {},
   "outputs": [],
   "source": [
    "extra_layers = Dropout(dropout_prob)(rgb_model.output)\n",
    "extra_layers = Conv3D(NUM_CLASSES, (1, 1, 1),\n",
    "                        strides = (1, 1, 1), \n",
    "                        padding = 'same',\n",
    "                        use_bias = False,\n",
    "                        name = 'rgb_Conv3d_6a_1x1')(extra_layers)\n",
    "extra_layers = Reshape((-1, NUM_CLASSES))(extra_layers)\n",
    "extra_layers = Lambda(lambda x: K.mean(x, axis=1, keepdims=False),\n",
    "                        output_shape=lambda s: (s[0], s[2]))(extra_layers)\n",
    "\n",
    "rgb_model = Model(rgb_model.input, extra_layers)"
   ]
  },
  {
   "cell_type": "code",
   "execution_count": 9,
   "id": "dbf1b9ca",
   "metadata": {},
   "outputs": [],
   "source": [
    "# Make only the last two inception modules and top layer trainable\n",
    "for layer in rgb_model.layers[:-46]:\n",
    "    layer.trainable = False"
   ]
  },
  {
   "cell_type": "code",
   "execution_count": 10,
   "id": "599d1726",
   "metadata": {},
   "outputs": [
    {
     "name": "stderr",
     "output_type": "stream",
     "text": [
      "/home/jupyter/fusioni3d/i3d_inception.py:100: UserWarning: This model usually expects 1 or 3 input channels. However, it was passed an input_shape with 2 input channels.\n",
      "  str(input_shape[-1]) + ' input channels.')\n"
     ]
    },
    {
     "name": "stdout",
     "output_type": "stream",
     "text": [
      "Downloading data from https://github.com/dlpbc/keras-kinetics-i3d/releases/download/v0.2/flow_inception_i3d_imagenet_and_kinetics_tf_dim_ordering_tf_kernels_no_top.h5\n",
      "49512448/49507528 [==============================] - 1s 0us/step\n"
     ]
    }
   ],
   "source": [
    "flow_model = Inception_Inflated3d(\n",
    "                include_top=False,\n",
    "                weights='flow_imagenet_and_kinetics',\n",
    "                input_tensor = None,\n",
    "                input_shape=(None, FRAME_HEIGHT, FRAME_WIDTH, NUM_FLOW_CHANNELS),\n",
    "                classes=NUM_CLASSES,\n",
    "                prefix = 'opt_')"
   ]
  },
  {
   "cell_type": "code",
   "execution_count": 11,
   "id": "d06fa36e",
   "metadata": {},
   "outputs": [],
   "source": [
    "extra_layers = Dropout(dropout_prob)(flow_model.output)\n",
    "extra_layers = Conv3D(NUM_CLASSES, (1, 1, 1),\n",
    "                        strides = (1, 1, 1), \n",
    "                        padding = 'same',\n",
    "                        use_bias = False,\n",
    "                        name = 'opt_Conv3d_6a_1x1')(extra_layers)\n",
    "extra_layers = Reshape((-1, NUM_CLASSES))(extra_layers)\n",
    "extra_layers = Lambda(lambda x: K.mean(x, axis=1, keepdims=False),\n",
    "                        output_shape=lambda s: (s[0], s[2]))(extra_layers)\n",
    "\n",
    "flow_model = Model(flow_model.input, extra_layers)"
   ]
  },
  {
   "cell_type": "code",
   "execution_count": 12,
   "id": "b96097f1",
   "metadata": {},
   "outputs": [],
   "source": [
    "# Make only the last two inception modules and top layer trainable\n",
    "for layer in flow_model.layers[:-46]:\n",
    "    layer.trainable = False"
   ]
  },
  {
   "cell_type": "markdown",
   "id": "5989c4c0",
   "metadata": {},
   "source": [
    "# Step 3: Merging models"
   ]
  },
  {
   "cell_type": "markdown",
   "id": "9cf152fe",
   "metadata": {},
   "source": [
    "## RGB part"
   ]
  },
  {
   "cell_type": "code",
   "execution_count": 13,
   "id": "bc3fa81e",
   "metadata": {},
   "outputs": [],
   "source": [
    "# Adding rgb part to final model\n",
    "input_rgb = input_model.get_layer('rbg_branch').output\n",
    "output_rgb = rgb_model(input_rgb)\n",
    "model  = Model(inputs=input_model.input, outputs=[output_rgb, opt])"
   ]
  },
  {
   "cell_type": "code",
   "execution_count": 14,
   "id": "9d466512",
   "metadata": {},
   "outputs": [
    {
     "name": "stdout",
     "output_type": "stream",
     "text": [
      "Model: \"model_3\"\n",
      "______________________________________________________________________________________________________________________________________________________\n",
      "Layer (type)                                     Output Shape                     Param #           Connected to                                      \n",
      "======================================================================================================================================================\n",
      "input_1 (InputLayer)                             [(None, None, 224, 224, 5)]      0                                                                   \n",
      "______________________________________________________________________________________________________________________________________________________\n",
      "rbg_branch (Lambda)                              (None, None, 224, 224, 3)        0                 input_1[0][0]                                     \n",
      "______________________________________________________________________________________________________________________________________________________\n",
      "model_1 (Functional)                             (None, 2)                        12296592          rbg_branch[0][0]                                  \n",
      "______________________________________________________________________________________________________________________________________________________\n",
      "opt_branch (Lambda)                              (None, None, 224, 224, 2)        0                 input_1[0][0]                                     \n",
      "======================================================================================================================================================\n",
      "Total params: 12,296,592\n",
      "Trainable params: 4,758,768\n",
      "Non-trainable params: 7,537,824\n",
      "______________________________________________________________________________________________________________________________________________________\n"
     ]
    }
   ],
   "source": [
    "model.summary(line_length=150)"
   ]
  },
  {
   "cell_type": "code",
   "execution_count": 15,
   "id": "08ef8196",
   "metadata": {},
   "outputs": [
    {
     "data": {
      "image/png": "[encoded data removed]",
      "text/plain": [
       "<IPython.core.display.Image object>"
      ]
     },
     "execution_count": 15,
     "metadata": {},
     "output_type": "execute_result"
    }
   ],
   "source": [
    "tf.keras.utils.plot_model(\n",
    "   model\n",
    ")"
   ]
  },
  {
   "cell_type": "markdown",
   "id": "4b0ed6a6",
   "metadata": {},
   "source": [
    "## Flow part"
   ]
  },
  {
   "cell_type": "code",
   "execution_count": 16,
   "id": "25872d81",
   "metadata": {},
   "outputs": [],
   "source": [
    "input_opt = model.get_layer('opt_branch').output\n",
    "output_flow = flow_model(input_opt)\n",
    "model  = Model(inputs=model.input, outputs=[output_flow, output_rgb])"
   ]
  },
  {
   "cell_type": "code",
   "execution_count": 17,
   "id": "d28ada93",
   "metadata": {},
   "outputs": [
    {
     "name": "stdout",
     "output_type": "stream",
     "text": [
      "Model: \"model_4\"\n",
      "__________________________________________________________________________________________________\n",
      "Layer (type)                    Output Shape         Param #     Connected to                     \n",
      "==================================================================================================\n",
      "input_1 (InputLayer)            [(None, None, 224, 2 0                                            \n",
      "__________________________________________________________________________________________________\n",
      "opt_branch (Lambda)             (None, None, 224, 22 0           input_1[0][0]                    \n",
      "__________________________________________________________________________________________________\n",
      "rbg_branch (Lambda)             (None, None, 224, 22 0           input_1[0][0]                    \n",
      "__________________________________________________________________________________________________\n",
      "model_2 (Functional)            (None, 2)            12274640    opt_branch[0][0]                 \n",
      "__________________________________________________________________________________________________\n",
      "model_1 (Functional)            (None, 2)            12296592    rbg_branch[0][0]                 \n",
      "==================================================================================================\n",
      "Total params: 24,571,232\n",
      "Trainable params: 9,517,536\n",
      "Non-trainable params: 15,053,696\n",
      "__________________________________________________________________________________________________\n"
     ]
    }
   ],
   "source": [
    "model.summary()"
   ]
  },
  {
   "cell_type": "code",
   "execution_count": 18,
   "id": "d0a1be01",
   "metadata": {},
   "outputs": [
    {
     "data": {
      "image/png": "[encoded data removed]",
      "text/plain": [
       "<IPython.core.display.Image object>"
      ]
     },
     "execution_count": 18,
     "metadata": {},
     "output_type": "execute_result"
    }
   ],
   "source": [
    "tf.keras.utils.plot_model(\n",
    "   model\n",
    ")"
   ]
  },
  {
   "cell_type": "markdown",
   "id": "fea46221",
   "metadata": {},
   "source": [
    "# Step 4: Adding fusion block"
   ]
  },
  {
   "cell_type": "code",
   "execution_count": 19,
   "id": "07f24d3c",
   "metadata": {},
   "outputs": [],
   "source": [
    "fusion = Add()(model.output)\n",
    "fusion = Activation('softmax')(fusion)"
   ]
  },
  {
   "cell_type": "code",
   "execution_count": 20,
   "id": "c6070a6c",
   "metadata": {},
   "outputs": [],
   "source": [
    "model = Model(model.input, fusion)"
   ]
  },
  {
   "cell_type": "code",
   "execution_count": 21,
   "id": "31e16e3b",
   "metadata": {},
   "outputs": [
    {
     "name": "stdout",
     "output_type": "stream",
     "text": [
      "Model: \"model_5\"\n",
      "__________________________________________________________________________________________________\n",
      "Layer (type)                    Output Shape         Param #     Connected to                     \n",
      "==================================================================================================\n",
      "input_1 (InputLayer)            [(None, None, 224, 2 0                                            \n",
      "__________________________________________________________________________________________________\n",
      "opt_branch (Lambda)             (None, None, 224, 22 0           input_1[0][0]                    \n",
      "__________________________________________________________________________________________________\n",
      "rbg_branch (Lambda)             (None, None, 224, 22 0           input_1[0][0]                    \n",
      "__________________________________________________________________________________________________\n",
      "model_2 (Functional)            (None, 2)            12274640    opt_branch[0][0]                 \n",
      "__________________________________________________________________________________________________\n",
      "model_1 (Functional)            (None, 2)            12296592    rbg_branch[0][0]                 \n",
      "__________________________________________________________________________________________________\n",
      "add (Add)                       (None, 2)            0           model_2[0][0]                    \n",
      "                                                                 model_1[0][0]                    \n",
      "__________________________________________________________________________________________________\n",
      "activation (Activation)         (None, 2)            0           add[0][0]                        \n",
      "==================================================================================================\n",
      "Total params: 24,571,232\n",
      "Trainable params: 9,517,536\n",
      "Non-trainable params: 15,053,696\n",
      "__________________________________________________________________________________________________\n"
     ]
    }
   ],
   "source": [
    "model.summary()"
   ]
  },
  {
   "cell_type": "code",
   "execution_count": 22,
   "id": "e92a02da",
   "metadata": {},
   "outputs": [
    {
     "data": {
      "image/png": "[encoded data removed]",
      "text/plain": [
       "<IPython.core.display.Image object>"
      ]
     },
     "execution_count": 22,
     "metadata": {},
     "output_type": "execute_result"
    }
   ],
   "source": [
    "tf.keras.utils.plot_model(\n",
    "   model\n",
    ")"
   ]
  },
  {
   "cell_type": "markdown",
   "id": "eccf4c2a",
   "metadata": {},
   "source": [
    "# Step 5: Data generator"
   ]
  },
  {
   "cell_type": "code",
   "execution_count": 3,
   "id": "7ad89a2e",
   "metadata": {},
   "outputs": [],
   "source": [
    "from fusioni3ddatagenerator import DataGenerator"
   ]
  },
  {
   "cell_type": "code",
   "execution_count": 4,
   "id": "e19918af",
   "metadata": {},
   "outputs": [],
   "source": [
    "# Parameters\n",
    "batch_size = 8\n",
    "path_train = '../datai3d/train/'\n",
    "path_val = '../datai3d/validation/'\n",
    "path_test = '../datai3d/test/'"
   ]
  },
  {
   "cell_type": "code",
   "execution_count": 5,
   "id": "2e190076",
   "metadata": {},
   "outputs": [
    {
     "name": "stdout",
     "output_type": "stream",
     "text": [
      "Found 1207 files belonging to 2 classes.\n",
      "     Fight :  0\n",
      "  NonFight :  1\n",
      "Found 393 files belonging to 2 classes.\n",
      "     Fight :  0\n",
      "  NonFight :  1\n",
      "Found 400 files belonging to 2 classes.\n",
      "     Fight :  0\n",
      "  NonFight :  1\n"
     ]
    }
   ],
   "source": [
    "# Create data generators for training, validation and test\n",
    "train_generator = DataGenerator(directory=path_train,\n",
    "                                batch_size=batch_size, \n",
    "                                shuffle=True,\n",
    "                                data_augmentation=True,\n",
    "                                target_frames = 79,\n",
    "                                crop_dim = (224, 224),\n",
    "                                flip = True)\n",
    "\n",
    "validation_generator = DataGenerator(directory=path_val,\n",
    "                                     batch_size=batch_size,\n",
    "                                     shuffle=True,\n",
    "                                     data_augmentation=False,\n",
    "                                     target_frames = None,\n",
    "                                     crop_dim = (224, 224),\n",
    "                                     flip = False)\n",
    "\n",
    "test_generator = DataGenerator(directory=path_test,\n",
    "                               batch_size=batch_size, \n",
    "                               shuffle = False,\n",
    "                               data_augmentation=False,\n",
    "                               target_frames = None,\n",
    "                               crop_dim = (224, 224),\n",
    "                               flip = False)"
   ]
  },
  {
   "cell_type": "markdown",
   "id": "dc7b89f0",
   "metadata": {},
   "source": [
    "# Step 6: Training"
   ]
  },
  {
   "cell_type": "code",
   "execution_count": 6,
   "id": "110fbb1b",
   "metadata": {},
   "outputs": [],
   "source": [
    "# Parameters\n",
    "epochs = 100\n",
    "steps_per_epoch = train_generator.n_files//batch_size\n",
    "validation_steps = validation_generator.n_files//batch_size\n",
    "\n",
    "# Path to store checkpoints\n",
    "filepath = 'checkpoints/weights_fusioni3d.hdf5'"
   ]
  },
  {
   "cell_type": "code",
   "execution_count": 7,
   "id": "c08f9238",
   "metadata": {},
   "outputs": [],
   "source": [
    "# Callbacks\n",
    "\n",
    "# Reduce learning rate by 10x when plateau\n",
    "reduce_lr = tf.keras.callbacks.ReduceLROnPlateau(monitor='val_loss', \n",
    "                                                 factor=0.1,\n",
    "                                                 patience=5, \n",
    "                                                 min_lr=0.0001,\n",
    "                                                verbose = 1)\n",
    "\n",
    "# Save best model\n",
    "checkpoint = tf.keras.callbacks.ModelCheckpoint(filepath, \n",
    "                                                monitor='val_loss', \n",
    "                                                verbose=1, \n",
    "                                                save_best_only=True, \n",
    "                                                save_weights_only=False, \n",
    "                                                mode='auto', \n",
    "                                                save_freq='epoch')\n",
    "\n",
    "# Stop after 10 epochs if val loss does not improve\n",
    "earlystop = tf.keras.callbacks.EarlyStopping(monitor = 'val_loss', \n",
    "                                             restore_best_weights = True, \n",
    "                                             patience = 15, \n",
    "                                             min_delta = 0.01,\n",
    "                                            verbose = 1)\n",
    "\n",
    "callbacks = [reduce_lr, checkpoint, earlystop]"
   ]
  },
  {
   "cell_type": "code",
   "execution_count": null,
   "id": "ac4a79c4",
   "metadata": {},
   "outputs": [],
   "source": [
    "# Create optimiser (SGD with momentum)\n",
    "optimizer = tf.keras.optimizers.SGD(learning_rate = 0.001, momentum = 0.9)\n",
    "\n",
    "# Compile model\n",
    "model.compile(optimizer=optimizer, loss='CategoricalCrossentropy', metrics=['accuracy'])"
   ]
  },
  {
   "cell_type": "code",
   "execution_count": null,
   "id": "e062402d",
   "metadata": {},
   "outputs": [
    {
     "name": "stdout",
     "output_type": "stream",
     "text": [
      "Epoch 1/100\n",
      "150/150 [==============================] - 5682s 38s/step - loss: 0.6253 - accuracy: 0.6389 - val_loss: 0.5639 - val_accuracy: 0.7296\n",
      "\n",
      "Epoch 00001: val_loss improved from inf to 0.56389, saving model to checkpoints/weights_fusioni3d.hdf5\n"
     ]
    },
    {
     "name": "stderr",
     "output_type": "stream",
     "text": [
      "/opt/conda/lib/python3.7/site-packages/tensorflow/python/keras/utils/generic_utils.py:497: CustomMaskWarning: Custom mask layers require a config and must override get_config. When loading, the custom mask layer must be passed to the custom_objects argument.\n",
      "  category=CustomMaskWarning)\n"
     ]
    },
    {
     "name": "stdout",
     "output_type": "stream",
     "text": [
      "Epoch 2/100\n",
      "150/150 [==============================] - 5535s 37s/step - loss: 0.5048 - accuracy: 0.7673 - val_loss: 0.5254 - val_accuracy: 0.7296\n",
      "\n",
      "Epoch 00002: val_loss improved from 0.56389 to 0.52536, saving model to checkpoints/weights_fusioni3d.hdf5\n",
      "Epoch 3/100\n",
      "150/150 [==============================] - 5369s 36s/step - loss: 0.4506 - accuracy: 0.8115 - val_loss: 0.4591 - val_accuracy: 0.8010\n",
      "\n",
      "Epoch 00003: val_loss improved from 0.52536 to 0.45912, saving model to checkpoints/weights_fusioni3d.hdf5\n",
      "Epoch 4/100\n",
      "150/150 [==============================] - 5448s 36s/step - loss: 0.4271 - accuracy: 0.8107 - val_loss: 0.4427 - val_accuracy: 0.8061\n",
      "\n",
      "Epoch 00004: val_loss improved from 0.45912 to 0.44275, saving model to checkpoints/weights_fusioni3d.hdf5\n",
      "Epoch 5/100\n",
      "150/150 [==============================] - 5526s 37s/step - loss: 0.4040 - accuracy: 0.8249 - val_loss: 0.4204 - val_accuracy: 0.8112\n",
      "\n",
      "Epoch 00005: val_loss improved from 0.44275 to 0.42036, saving model to checkpoints/weights_fusioni3d.hdf5\n",
      "Epoch 6/100\n",
      "150/150 [==============================] - 5449s 36s/step - loss: 0.3914 - accuracy: 0.8249 - val_loss: 0.4113 - val_accuracy: 0.8240\n",
      "\n",
      "Epoch 00006: val_loss improved from 0.42036 to 0.41133, saving model to checkpoints/weights_fusioni3d.hdf5\n",
      "Epoch 7/100\n",
      "150/150 [==============================] - 5490s 37s/step - loss: 0.3632 - accuracy: 0.8524 - val_loss: 0.3998 - val_accuracy: 0.8214\n",
      "\n",
      "Epoch 00007: val_loss improved from 0.41133 to 0.39977, saving model to checkpoints/weights_fusioni3d.hdf5\n",
      "Epoch 8/100\n",
      "150/150 [==============================] - 5466s 37s/step - loss: 0.3446 - accuracy: 0.8507 - val_loss: 0.3897 - val_accuracy: 0.8112\n",
      "\n",
      "Epoch 00008: val_loss improved from 0.39977 to 0.38971, saving model to checkpoints/weights_fusioni3d.hdf5\n",
      "Epoch 9/100\n",
      "150/150 [==============================] - 5489s 37s/step - loss: 0.3432 - accuracy: 0.8524 - val_loss: 0.3932 - val_accuracy: 0.8291\n",
      "\n",
      "Epoch 00009: val_loss did not improve from 0.38971\n",
      "Epoch 10/100\n",
      "150/150 [==============================] - 5538s 37s/step - loss: 0.3337 - accuracy: 0.8507 - val_loss: 0.3792 - val_accuracy: 0.8189\n",
      "\n",
      "Epoch 00010: val_loss improved from 0.38971 to 0.37917, saving model to checkpoints/weights_fusioni3d.hdf5\n",
      "Epoch 11/100\n",
      "150/150 [==============================] - 5529s 37s/step - loss: 0.3256 - accuracy: 0.8649 - val_loss: 0.3955 - val_accuracy: 0.8240\n",
      "\n",
      "Epoch 00011: val_loss did not improve from 0.37917\n",
      "Epoch 12/100\n",
      "150/150 [==============================] - 5559s 37s/step - loss: 0.3183 - accuracy: 0.8607 - val_loss: 0.3819 - val_accuracy: 0.8112\n",
      "\n",
      "Epoch 00012: val_loss did not improve from 0.37917\n",
      "Epoch 13/100\n",
      "150/150 [==============================] - 5617s 38s/step - loss: 0.3090 - accuracy: 0.8775 - val_loss: 0.3764 - val_accuracy: 0.8189\n",
      "\n",
      "Epoch 00013: val_loss improved from 0.37917 to 0.37638, saving model to checkpoints/weights_fusioni3d.hdf5\n",
      "Epoch 14/100\n",
      "150/150 [==============================] - 5621s 38s/step - loss: 0.3092 - accuracy: 0.8649 - val_loss: 0.3841 - val_accuracy: 0.8240\n",
      "\n",
      "Epoch 00014: val_loss did not improve from 0.37638\n",
      "Epoch 15/100\n",
      "125/150 [========================>.....] - ETA: 11:32 - loss: 0.2948 - accuracy: 0.8719"
     ]
    }
   ],
   "source": [
    "# Start training and save history\n",
    "history = model.fit(\n",
    "      train_generator,\n",
    "      steps_per_epoch=steps_per_epoch,\n",
    "      epochs=epochs,\n",
    "      validation_data=validation_generator,\n",
    "      validation_steps=validation_steps,\n",
    "      callbacks = callbacks,\n",
    "      verbose=1)"
   ]
  },
  {
   "cell_type": "code",
   "execution_count": null,
   "id": "d6300f3c",
   "metadata": {},
   "outputs": [],
   "source": [
    "# Save history of the model\n",
    "import pickle\n",
    "with open('history_i3dfusion', 'wb') as file_pi:\n",
    "    pickle.dump(history.history, file_pi)"
   ]
  },
  {
   "cell_type": "markdown",
   "id": "a3616ba2",
   "metadata": {},
   "source": [
    "# Step 8: Keep training"
   ]
  },
  {
   "cell_type": "code",
   "execution_count": null,
   "id": "41b786ca",
   "metadata": {},
   "outputs": [],
   "source": [
    "# Download our pretrained model\n",
    "!mkdir checkpoints\n",
    "%cd checkpoints\n",
    "!gdown --id 1D6n1GhYfjWMmDbJxJBZxj-GjN_BDvP9P\n",
    "%cd .."
   ]
  },
  {
   "cell_type": "code",
   "execution_count": 10,
   "id": "6f41767c",
   "metadata": {},
   "outputs": [],
   "source": [
    "model = tf.keras.models.load_model('checkpoints/weights_fusioni3d.hdf5')"
   ]
  },
  {
   "cell_type": "code",
   "execution_count": 16,
   "id": "e1a11462",
   "metadata": {},
   "outputs": [],
   "source": [
    "# Parameters\n",
    "epochs = 100\n",
    "steps_per_epoch = train_generator.n_files//batch_size\n",
    "validation_steps = validation_generator.n_files//batch_size\n",
    "\n",
    "# Path to store checkpoints\n",
    "filepath = 'checkpoints/weights_fusioni3d.hdf5'"
   ]
  },
  {
   "cell_type": "code",
   "execution_count": 48,
   "id": "0dd530b2",
   "metadata": {},
   "outputs": [],
   "source": [
    "# Callbacks\n",
    "\n",
    "# Reduce learning rate by 10x when plateau\n",
    "reduce_lr = tf.keras.callbacks.ReduceLROnPlateau(monitor='val_loss', \n",
    "                                                 factor=0.1,\n",
    "                                                 patience=5, \n",
    "                                                 min_lr=0.0001,\n",
    "                                                verbose = 1)\n",
    "\n",
    "# Save best model\n",
    "checkpoint = tf.keras.callbacks.ModelCheckpoint(filepath, \n",
    "                                                monitor='val_loss', \n",
    "                                                verbose=1, \n",
    "                                                save_best_only=True, \n",
    "                                                save_weights_only=False, \n",
    "                                                mode='auto', \n",
    "                                                save_freq='epoch')\n",
    "\n",
    "# Stop after 10 epochs if val loss does not improve\n",
    "earlystop = tf.keras.callbacks.EarlyStopping(monitor = 'val_loss', \n",
    "                                             restore_best_weights = True, \n",
    "                                             patience = 10, \n",
    "                                             min_delta = 0.01,\n",
    "                                            verbose = 1)\n",
    "\n",
    "callbacks = [reduce_lr, checkpoint, earlystop]"
   ]
  },
  {
   "cell_type": "code",
   "execution_count": 49,
   "id": "d6f7a205",
   "metadata": {},
   "outputs": [],
   "source": [
    "# Create optimiser (SGD with momentum)\n",
    "optimizer = tf.keras.optimizers.SGD(learning_rate = 0.001, momentum = 0.9)\n",
    "\n",
    "# Compile model\n",
    "model.compile(optimizer=optimizer, loss='CategoricalCrossentropy', metrics=['accuracy'])"
   ]
  },
  {
   "cell_type": "code",
   "execution_count": null,
   "id": "c9036464",
   "metadata": {},
   "outputs": [
    {
     "name": "stdout",
     "output_type": "stream",
     "text": [
      "Epoch 1/100\n",
      "150/150 [==============================] - ETA: 0s - loss: 0.3300 - accuracy: 0.8649 "
     ]
    }
   ],
   "source": [
    "# Start training and save history\n",
    "history = model.fit(\n",
    "      train_generator,\n",
    "      steps_per_epoch=steps_per_epoch,\n",
    "      epochs=epochs,\n",
    "      validation_data=validation_generator,\n",
    "      validation_steps=validation_steps,\n",
    "      callbacks = callbacks,\n",
    "      verbose=1)"
   ]
  },
  {
   "cell_type": "markdown",
   "id": "e44e314a",
   "metadata": {},
   "source": [
    "# Step 7: Evaluate on test set"
   ]
  },
  {
   "cell_type": "code",
   "execution_count": 11,
   "id": "ff47e5a0",
   "metadata": {},
   "outputs": [],
   "source": [
    "test_steps = test_generator.n_files//batch_size"
   ]
  },
  {
   "cell_type": "code",
   "execution_count": 12,
   "id": "231cf262",
   "metadata": {},
   "outputs": [
    {
     "name": "stdout",
     "output_type": "stream",
     "text": [
      "50/50 [==============================] - 1419s 28s/step - loss: 0.3426 - accuracy: 0.8500\n"
     ]
    },
    {
     "data": {
      "text/plain": [
       "[0.34264594316482544, 0.8500000238418579]"
      ]
     },
     "execution_count": 12,
     "metadata": {},
     "output_type": "execute_result"
    }
   ],
   "source": [
    "model.evaluate(test_generator,\n",
    "               steps = test_steps)"
   ]
  }
 ],
 "metadata": {
  "environment": {
   "name": "tf2-gpu.2-5.m71",
   "type": "gcloud",
   "uri": "gcr.io/deeplearning-platform-release/tf2-gpu.2-5:m71"
  },
  "kernelspec": {
   "display_name": "Python 3",
   "language": "python",
   "name": "python3"
  },
  "language_info": {
   "codemirror_mode": {
    "name": "ipython",
    "version": 3
   },
   "file_extension": ".py",
   "mimetype": "text/x-python",
   "name": "python",
   "nbconvert_exporter": "python",
   "pygments_lexer": "ipython3",
   "version": "3.7.10"
  }
 },
 "nbformat": 4,
 "nbformat_minor": 5
}
