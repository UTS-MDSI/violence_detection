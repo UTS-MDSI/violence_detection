{
 "cells": [
  {
   "cell_type": "code",
   "execution_count": 1,
   "id": "d7acb10b",
   "metadata": {},
   "outputs": [],
   "source": [
    "import tensorflow as tf\n",
    "import numpy as np\n",
    "\n",
    "# Layers\n",
    "from tensorflow.keras.layers import Dropout #\n",
    "from tensorflow.keras.layers import Reshape #\n",
    "from tensorflow.keras.layers import Lambda #\n",
    "from tensorflow.keras.layers import Input #\n",
    "from tensorflow.keras.layers import Conv3D #\n",
    "from tensorflow.keras.layers import Activation #\n",
    "from tensorflow.keras.layers import Add #\n",
    "\n",
    "# Transformations\n",
    "from tensorflow.keras import backend as K\n",
    "\n",
    "# Model\n",
    "from tensorflow.keras import Model\n",
    "\n",
    "# RGB and FLOW networds\n",
    "from i3d_inception import Inception_Inflated3d\n",
    "\n",
    "#from tensorflow.python.client import device_lib\n",
    "#from tensorflow.keras import layers\n",
    "\n",
    "#from tensorflow.keras.callbacks import ModelCheckpoint\n",
    "#from tensorflow.keras.optimizers import SGD\n",
    "#from tensorflow.keras.optimizers import RMSprop\n",
    "#from tensorflow.keras.preprocessing.image import ImageDataGenerator\n",
    "\n",
    "\n",
    "#from tensorflow.keras import applications\n",
    "#from tensorflow.keras.preprocessing import image\n",
    "#from tensorflow.keras.preprocessing.image import \n",
    "\n",
    "#from tensorflow.keras import optimizers\n",
    "\n",
    "#import tensorflow as tf\n",
    "\n",
    "#Models\n",
    "#from tensorflow.keras.models import Model #\n",
    "#from tensorflow.keras.models import Sequential\n",
    "\n",
    "\n",
    "#from tensorflow.keras import models\n",
    "#from tensorflow.keras import optimizers\n",
    "#from tensorflow.keras.preprocessing import image"
   ]
  },
  {
   "cell_type": "markdown",
   "id": "619c52ef",
   "metadata": {},
   "source": [
    "# Step 1: Creating input model"
   ]
  },
  {
   "cell_type": "code",
   "execution_count": 2,
   "id": "c8559d6b",
   "metadata": {},
   "outputs": [],
   "source": [
    "# Parameters for the model\n",
    "NUM_FRAMES = 79\n",
    "FRAME_HEIGHT = 224\n",
    "FRAME_WIDTH = 224\n",
    "NUM_RGB_CHANNELS = 3\n",
    "NUM_FLOW_CHANNELS = 2\n",
    "NUM_CLASSES = 2\n",
    "\n",
    "# Parameters\n",
    "dropout_prob = 0.0"
   ]
  },
  {
   "cell_type": "code",
   "execution_count": 3,
   "id": "c1792d43",
   "metadata": {},
   "outputs": [],
   "source": [
    "def get_rgb(input_x):\n",
    "    rgb = input_x[...,:3]\n",
    "    return rgb\n",
    "\n",
    "# extract the optical flows (they are 2d vectors, the final 2)\n",
    "def get_opt(input_x):\n",
    "    opt= input_x[...,3:5]\n",
    "    return opt"
   ]
  },
  {
   "cell_type": "code",
   "execution_count": 4,
   "id": "359c4fb0",
   "metadata": {},
   "outputs": [],
   "source": [
    "inputs = Input(shape=(None,FRAME_HEIGHT,FRAME_WIDTH,NUM_RGB_CHANNELS + NUM_FLOW_CHANNELS))\n",
    "rgb = Lambda(get_rgb,output_shape=None, name = 'rbg_branch')(inputs)\n",
    "opt = Lambda(get_opt,output_shape=None, name = 'opt_branch')(inputs)"
   ]
  },
  {
   "cell_type": "code",
   "execution_count": 5,
   "id": "8a844724",
   "metadata": {},
   "outputs": [],
   "source": [
    "input_model = Model(inputs = [inputs], outputs = [rgb, opt])"
   ]
  },
  {
   "cell_type": "code",
   "execution_count": 6,
   "id": "d94e7651",
   "metadata": {},
   "outputs": [
    {
     "name": "stdout",
     "output_type": "stream",
     "text": [
      "Model: \"model\"\n",
      "______________________________________________________________________________________________________________________________________________________\n",
      "Layer (type)                                     Output Shape                     Param #           Connected to                                      \n",
      "======================================================================================================================================================\n",
      "input_1 (InputLayer)                             [(None, None, 224, 224, 5)]      0                                                                   \n",
      "______________________________________________________________________________________________________________________________________________________\n",
      "rbg_branch (Lambda)                              (None, None, 224, 224, 3)        0                 input_1[0][0]                                     \n",
      "______________________________________________________________________________________________________________________________________________________\n",
      "opt_branch (Lambda)                              (None, None, 224, 224, 2)        0                 input_1[0][0]                                     \n",
      "======================================================================================================================================================\n",
      "Total params: 0\n",
      "Trainable params: 0\n",
      "Non-trainable params: 0\n",
      "______________________________________________________________________________________________________________________________________________________\n"
     ]
    }
   ],
   "source": [
    "input_model.summary(line_length=150)"
   ]
  },
  {
   "cell_type": "markdown",
   "id": "4eb8549a",
   "metadata": {},
   "source": [
    "# Step 2: Creating rgb and flow model"
   ]
  },
  {
   "cell_type": "code",
   "execution_count": 7,
   "id": "77b2bd4a",
   "metadata": {},
   "outputs": [],
   "source": [
    "rgb_model = Inception_Inflated3d(\n",
    "                include_top=False,\n",
    "                weights='rgb_imagenet_and_kinetics',\n",
    "                input_tensor=None,\n",
    "                input_shape=(None, FRAME_HEIGHT, FRAME_WIDTH, NUM_RGB_CHANNELS), \n",
    "                classes=NUM_CLASSES,\n",
    "                prefix = 'rgb_')"
   ]
  },
  {
   "cell_type": "code",
   "execution_count": 8,
   "id": "5d3a79b8",
   "metadata": {},
   "outputs": [],
   "source": [
    "extra_layers = Dropout(dropout_prob)(rgb_model.output)\n",
    "extra_layers = Conv3D(NUM_CLASSES, (1, 1, 1),\n",
    "                        strides = (1, 1, 1), \n",
    "                        padding = 'same',\n",
    "                        use_bias = False,\n",
    "                        name = 'rgb_Conv3d_6a_1x1')(extra_layers)\n",
    "extra_layers = Reshape((-1, NUM_CLASSES))(extra_layers)\n",
    "extra_layers = Lambda(lambda x: K.mean(x, axis=1, keepdims=False),\n",
    "                        output_shape=lambda s: (s[0], s[2]))(extra_layers)\n",
    "\n",
    "rgb_model = Model(rgb_model.input, extra_layers)"
   ]
  },
  {
   "cell_type": "code",
   "execution_count": 9,
   "id": "e345107a",
   "metadata": {},
   "outputs": [],
   "source": [
    "# Make only the last two inception modules and top layer trainable\n",
    "for layer in rgb_model.layers[:-20]:\n",
    "    layer.trainable = False"
   ]
  },
  {
   "cell_type": "code",
   "execution_count": 10,
   "id": "816abe7c",
   "metadata": {},
   "outputs": [
    {
     "name": "stderr",
     "output_type": "stream",
     "text": [
      "/home/jupyter/FusionI3D/i3d_inception.py:100: UserWarning: This model usually expects 1 or 3 input channels. However, it was passed an input_shape with 2 input channels.\n",
      "  str(input_shape[-1]) + ' input channels.')\n"
     ]
    }
   ],
   "source": [
    "flow_model = Inception_Inflated3d(\n",
    "                include_top=False,\n",
    "                weights='flow_imagenet_and_kinetics',\n",
    "                input_tensor = None,\n",
    "                input_shape=(None, FRAME_HEIGHT, FRAME_WIDTH, NUM_FLOW_CHANNELS),\n",
    "                classes=NUM_CLASSES,\n",
    "                prefix = 'opt_')"
   ]
  },
  {
   "cell_type": "code",
   "execution_count": 11,
   "id": "785888db",
   "metadata": {},
   "outputs": [],
   "source": [
    "extra_layers = Dropout(dropout_prob)(flow_model.output)\n",
    "extra_layers = Conv3D(NUM_CLASSES, (1, 1, 1),\n",
    "                        strides = (1, 1, 1), \n",
    "                        padding = 'same',\n",
    "                        use_bias = False,\n",
    "                        name = 'opt_Conv3d_6a_1x1')(extra_layers)\n",
    "extra_layers = Reshape((-1, NUM_CLASSES))(extra_layers)\n",
    "extra_layers = Lambda(lambda x: K.mean(x, axis=1, keepdims=False),\n",
    "                        output_shape=lambda s: (s[0], s[2]))(extra_layers)\n",
    "\n",
    "flow_model = Model(flow_model.input, extra_layers)"
   ]
  },
  {
   "cell_type": "code",
   "execution_count": 12,
   "id": "a4fa2189",
   "metadata": {},
   "outputs": [],
   "source": [
    "# Make only the last two inception modules and top layer trainable\n",
    "for layer in flow_model.layers[:-20]:\n",
    "    layer.trainable = False"
   ]
  },
  {
   "cell_type": "markdown",
   "id": "2723b143",
   "metadata": {},
   "source": [
    "# Step 3: Merging models"
   ]
  },
  {
   "cell_type": "markdown",
   "id": "132bae57",
   "metadata": {},
   "source": [
    "## RGB part"
   ]
  },
  {
   "cell_type": "code",
   "execution_count": 13,
   "id": "1d674b35",
   "metadata": {},
   "outputs": [],
   "source": [
    "# Adding rgb part to final model\n",
    "input_rgb = input_model.get_layer('rbg_branch').output\n",
    "output_rgb = rgb_model(input_rgb)\n",
    "model  = Model(inputs=input_model.input, outputs=[output_rgb, opt])"
   ]
  },
  {
   "cell_type": "code",
   "execution_count": 14,
   "id": "fff8041b",
   "metadata": {},
   "outputs": [
    {
     "name": "stdout",
     "output_type": "stream",
     "text": [
      "Model: \"model_3\"\n",
      "______________________________________________________________________________________________________________________________________________________\n",
      "Layer (type)                                     Output Shape                     Param #           Connected to                                      \n",
      "======================================================================================================================================================\n",
      "input_1 (InputLayer)                             [(None, None, 224, 224, 5)]      0                                                                   \n",
      "______________________________________________________________________________________________________________________________________________________\n",
      "rbg_branch (Lambda)                              (None, None, 224, 224, 3)        0                 input_1[0][0]                                     \n",
      "______________________________________________________________________________________________________________________________________________________\n",
      "model_1 (Functional)                             (None, 2)                        12296592          rbg_branch[0][0]                                  \n",
      "______________________________________________________________________________________________________________________________________________________\n",
      "opt_branch (Lambda)                              (None, None, 224, 224, 2)        0                 input_1[0][0]                                     \n",
      "======================================================================================================================================================\n",
      "Total params: 12,296,592\n",
      "Trainable params: 2,585,600\n",
      "Non-trainable params: 9,710,992\n",
      "______________________________________________________________________________________________________________________________________________________\n"
     ]
    }
   ],
   "source": [
    "model.summary(line_length=150)"
   ]
  },
  {
   "cell_type": "code",
   "execution_count": 15,
   "id": "3e8666e4",
   "metadata": {},
   "outputs": [
    {
     "data": {
      "image/png": "[encoded data removed]",
      "text/plain": [
       "<IPython.core.display.Image object>"
      ]
     },
     "execution_count": 15,
     "metadata": {},
     "output_type": "execute_result"
    }
   ],
   "source": [
    "tf.keras.utils.plot_model(\n",
    "   model\n",
    ")"
   ]
  },
  {
   "cell_type": "markdown",
   "id": "25c79c86",
   "metadata": {},
   "source": [
    "## Flow part"
   ]
  },
  {
   "cell_type": "code",
   "execution_count": 16,
   "id": "bcf4ddab",
   "metadata": {},
   "outputs": [],
   "source": [
    "input_opt = model.get_layer('opt_branch').output\n",
    "output_flow = flow_model(input_opt)\n",
    "model  = Model(inputs=model.input, outputs=[output_flow, output_rgb])"
   ]
  },
  {
   "cell_type": "code",
   "execution_count": 17,
   "id": "237bba9c",
   "metadata": {},
   "outputs": [
    {
     "name": "stdout",
     "output_type": "stream",
     "text": [
      "Model: \"model_4\"\n",
      "__________________________________________________________________________________________________\n",
      "Layer (type)                    Output Shape         Param #     Connected to                     \n",
      "==================================================================================================\n",
      "input_1 (InputLayer)            [(None, None, 224, 2 0                                            \n",
      "__________________________________________________________________________________________________\n",
      "opt_branch (Lambda)             (None, None, 224, 22 0           input_1[0][0]                    \n",
      "__________________________________________________________________________________________________\n",
      "rbg_branch (Lambda)             (None, None, 224, 22 0           input_1[0][0]                    \n",
      "__________________________________________________________________________________________________\n",
      "model_2 (Functional)            (None, 2)            12274640    opt_branch[0][0]                 \n",
      "__________________________________________________________________________________________________\n",
      "model_1 (Functional)            (None, 2)            12296592    rbg_branch[0][0]                 \n",
      "==================================================================================================\n",
      "Total params: 24,571,232\n",
      "Trainable params: 5,171,200\n",
      "Non-trainable params: 19,400,032\n",
      "__________________________________________________________________________________________________\n"
     ]
    }
   ],
   "source": [
    "model.summary()"
   ]
  },
  {
   "cell_type": "code",
   "execution_count": 18,
   "id": "becb2690",
   "metadata": {},
   "outputs": [
    {
     "data": {
      "image/png": "[encoded data removed]",
      "text/plain": [
       "<IPython.core.display.Image object>"
      ]
     },
     "execution_count": 18,
     "metadata": {},
     "output_type": "execute_result"
    }
   ],
   "source": [
    "tf.keras.utils.plot_model(\n",
    "   model\n",
    ")"
   ]
  },
  {
   "cell_type": "markdown",
   "id": "a16d4561",
   "metadata": {},
   "source": [
    "# Step 4: Adding fusion block"
   ]
  },
  {
   "cell_type": "code",
   "execution_count": 19,
   "id": "50e67b97",
   "metadata": {},
   "outputs": [],
   "source": [
    "fusion = Add()(model.output)\n",
    "fusion = Activation('softmax')(fusion)"
   ]
  },
  {
   "cell_type": "code",
   "execution_count": 20,
   "id": "8c1cb805",
   "metadata": {},
   "outputs": [],
   "source": [
    "model = Model(model.input, fusion)"
   ]
  },
  {
   "cell_type": "code",
   "execution_count": 21,
   "id": "eb39fc2c",
   "metadata": {},
   "outputs": [
    {
     "name": "stdout",
     "output_type": "stream",
     "text": [
      "Model: \"model_5\"\n",
      "__________________________________________________________________________________________________\n",
      "Layer (type)                    Output Shape         Param #     Connected to                     \n",
      "==================================================================================================\n",
      "input_1 (InputLayer)            [(None, None, 224, 2 0                                            \n",
      "__________________________________________________________________________________________________\n",
      "opt_branch (Lambda)             (None, None, 224, 22 0           input_1[0][0]                    \n",
      "__________________________________________________________________________________________________\n",
      "rbg_branch (Lambda)             (None, None, 224, 22 0           input_1[0][0]                    \n",
      "__________________________________________________________________________________________________\n",
      "model_2 (Functional)            (None, 2)            12274640    opt_branch[0][0]                 \n",
      "__________________________________________________________________________________________________\n",
      "model_1 (Functional)            (None, 2)            12296592    rbg_branch[0][0]                 \n",
      "__________________________________________________________________________________________________\n",
      "add (Add)                       (None, 2)            0           model_2[0][0]                    \n",
      "                                                                 model_1[0][0]                    \n",
      "__________________________________________________________________________________________________\n",
      "activation (Activation)         (None, 2)            0           add[0][0]                        \n",
      "==================================================================================================\n",
      "Total params: 24,571,232\n",
      "Trainable params: 5,171,200\n",
      "Non-trainable params: 19,400,032\n",
      "__________________________________________________________________________________________________\n"
     ]
    }
   ],
   "source": [
    "model.summary()"
   ]
  },
  {
   "cell_type": "markdown",
   "id": "303411bc",
   "metadata": {},
   "source": [
    "# Step 5: Data generator"
   ]
  },
  {
   "cell_type": "code",
   "execution_count": 23,
   "id": "5377fa1a",
   "metadata": {},
   "outputs": [],
   "source": [
    "from fusioni3ddatagenerator import DataGenerator"
   ]
  },
  {
   "cell_type": "code",
   "execution_count": 24,
   "id": "7d2eb6d1",
   "metadata": {},
   "outputs": [],
   "source": [
    "# Parameters\n",
    "batch_size = 8\n",
    "path_train = '../datai3d/i3d_light/train/'\n",
    "path_val = '../datai3d/i3d_light/validation/'\n",
    "path_test = '../datai3d/i3d_light/test/'"
   ]
  },
  {
   "cell_type": "code",
   "execution_count": 25,
   "id": "ac72f77a",
   "metadata": {},
   "outputs": [
    {
     "name": "stdout",
     "output_type": "stream",
     "text": [
      "Found 1207 files belonging to 2 classes.\n",
      "     Fight :  0\n",
      "  NonFight :  1\n",
      "Found 393 files belonging to 2 classes.\n",
      "     Fight :  0\n",
      "  NonFight :  1\n",
      "Found 400 files belonging to 2 classes.\n",
      "     Fight :  0\n",
      "  NonFight :  1\n"
     ]
    }
   ],
   "source": [
    "# Create data generators for training, validation and test\n",
    "train_generator = DataGenerator(directory=path_train,\n",
    "                                batch_size=batch_size, \n",
    "                                shuffle=True,\n",
    "                                data_augmentation=True,\n",
    "                                target_frames = 79,\n",
    "                                crop_dim = (224, 224),\n",
    "                                flip = True)\n",
    "\n",
    "validation_generator = DataGenerator(directory=path_val,\n",
    "                                     batch_size=batch_size,\n",
    "                                     shuffle=True,\n",
    "                                     data_augmentation=False,\n",
    "                                     target_frames = None,\n",
    "                                     crop_dim = (224, 224),\n",
    "                                     flip = False)\n",
    "\n",
    "test_generator = DataGenerator(directory=path_test,\n",
    "                               batch_size=batch_size, \n",
    "                               shuffle = False,\n",
    "                               data_augmentation=False,\n",
    "                               target_frames = None,\n",
    "                               crop_dim = (224, 224),\n",
    "                               flip = False)"
   ]
  },
  {
   "cell_type": "markdown",
   "id": "db4579bb",
   "metadata": {},
   "source": [
    "# Step 6: Training"
   ]
  },
  {
   "cell_type": "code",
   "execution_count": 26,
   "id": "38d94ce1",
   "metadata": {},
   "outputs": [],
   "source": [
    "# Parameters\n",
    "epochs = 100\n",
    "steps_per_epoch = train_generator.n_files//batch_size\n",
    "validation_steps = validation_generator.n_files//batch_size\n",
    "\n",
    "# Path to store checkpoints\n",
    "filepath = 'checkpoints/weights_fusioni3dfrozen.hdf5'"
   ]
  },
  {
   "cell_type": "code",
   "execution_count": 27,
   "id": "a3b16012",
   "metadata": {},
   "outputs": [],
   "source": [
    "# Callbacks\n",
    "\n",
    "# Reduce learning rate by 10x when plateau\n",
    "reduce_lr = tf.keras.callbacks.ReduceLROnPlateau(monitor='val_loss', \n",
    "                                                 factor=0.1,\n",
    "                                                 patience=5, \n",
    "                                                 min_lr=0.0001,\n",
    "                                                verbose = 1)\n",
    "\n",
    "# Save best model\n",
    "checkpoint = tf.keras.callbacks.ModelCheckpoint(filepath, \n",
    "                                                monitor='val_loss', \n",
    "                                                verbose=1, \n",
    "                                                save_best_only=True, \n",
    "                                                save_weights_only=False, \n",
    "                                                mode='auto', \n",
    "                                                save_freq='epoch')\n",
    "\n",
    "# Stop after 10 epochs if val loss does not improve\n",
    "earlystop = tf.keras.callbacks.EarlyStopping(monitor = 'val_loss', \n",
    "                                             restore_best_weights = True, \n",
    "                                             patience = 10, \n",
    "                                             min_delta = 0.01,\n",
    "                                            verbose = 1)\n",
    "\n",
    "callbacks = [reduce_lr, checkpoint, earlystop]"
   ]
  },
  {
   "cell_type": "code",
   "execution_count": 28,
   "id": "2ac3ae6c",
   "metadata": {},
   "outputs": [],
   "source": [
    "# Create optimiser (SGD with momentum)\n",
    "optimizer = tf.keras.optimizers.SGD(learning_rate = 0.01, momentum = 0.9)\n",
    "\n",
    "# Compile model\n",
    "model.compile(optimizer=optimizer, loss='CategoricalCrossentropy', metrics=['accuracy'])"
   ]
  },
  {
   "cell_type": "code",
   "execution_count": 29,
   "id": "228cc40e",
   "metadata": {},
   "outputs": [
    {
     "name": "stdout",
     "output_type": "stream",
     "text": [
      "Epoch 1/100\n",
      "150/150 [==============================] - 4752s 32s/step - loss: 0.4780 - accuracy: 0.7890 - val_loss: 0.4429 - val_accuracy: 0.7908\n",
      "\n",
      "Epoch 00001: val_loss improved from inf to 0.44293, saving model to checkpoints/weights_fusioni3d.hdf5\n"
     ]
    },
    {
     "name": "stderr",
     "output_type": "stream",
     "text": [
      "/opt/conda/lib/python3.7/site-packages/tensorflow/python/keras/utils/generic_utils.py:497: CustomMaskWarning: Custom mask layers require a config and must override get_config. When loading, the custom mask layer must be passed to the custom_objects argument.\n",
      "  category=CustomMaskWarning)\n"
     ]
    },
    {
     "name": "stdout",
     "output_type": "stream",
     "text": [
      "Epoch 2/100\n",
      "150/150 [==============================] - 4789s 32s/step - loss: 0.3436 - accuracy: 0.8424 - val_loss: 0.4501 - val_accuracy: 0.7985\n",
      "\n",
      "Epoch 00002: val_loss did not improve from 0.44293\n",
      "Epoch 3/100\n",
      "150/150 [==============================] - 4565s 30s/step - loss: 0.3097 - accuracy: 0.8632 - val_loss: 0.4502 - val_accuracy: 0.8061\n",
      "\n",
      "Epoch 00003: val_loss did not improve from 0.44293\n",
      "Epoch 4/100\n",
      "150/150 [==============================] - 4720s 32s/step - loss: 0.3067 - accuracy: 0.8632 - val_loss: 0.4480 - val_accuracy: 0.7908\n",
      "\n",
      "Epoch 00004: val_loss did not improve from 0.44293\n",
      "Epoch 5/100\n",
      "150/150 [==============================] - 4719s 32s/step - loss: 0.2741 - accuracy: 0.8807 - val_loss: 0.4888 - val_accuracy: 0.7832\n",
      "\n",
      "Epoch 00005: val_loss did not improve from 0.44293\n",
      "Epoch 6/100\n",
      "150/150 [==============================] - 4706s 31s/step - loss: 0.3169 - accuracy: 0.8641 - val_loss: 0.4757 - val_accuracy: 0.7959\n",
      "\n",
      "Epoch 00006: ReduceLROnPlateau reducing learning rate to 0.0009999999776482583.\n",
      "\n",
      "Epoch 00006: val_loss did not improve from 0.44293\n",
      "Epoch 7/100\n",
      "150/150 [==============================] - 5027s 34s/step - loss: 0.3053 - accuracy: 0.8732 - val_loss: 0.4250 - val_accuracy: 0.8087\n",
      "\n",
      "Epoch 00007: val_loss improved from 0.44293 to 0.42502, saving model to checkpoints/weights_fusioni3d.hdf5\n",
      "Epoch 8/100\n",
      "150/150 [==============================] - 4845s 32s/step - loss: 0.2330 - accuracy: 0.9016 - val_loss: 0.4244 - val_accuracy: 0.7934\n",
      "\n",
      "Epoch 00008: val_loss improved from 0.42502 to 0.42436, saving model to checkpoints/weights_fusioni3d.hdf5\n",
      "Epoch 9/100\n",
      "150/150 [==============================] - ETA: 0s - loss: 0.2336 - accuracy: 0.9016 "
     ]
    },
    {
     "ename": "ResourceExhaustedError",
     "evalue": " OOM when allocating tensor with shape[8,64,62,112,112] and type float on /job:localhost/replica:0/task:0/device:GPU:0 by allocator GPU_0_bfc\n\t [[node model_5/model_2/opt_MaxPool2d_2a_3x3/MaxPool3D (defined at <ipython-input-29-5393525774f5>:9) ]]\nHint: If you want to see a list of allocated tensors when OOM happens, add report_tensor_allocations_upon_oom to RunOptions for current allocation info.\n [Op:__inference_test_function_21909]\n\nFunction call stack:\ntest_function\n",
     "output_type": "error",
     "traceback": [
      "\u001b[0;31m---------------------------------------------------------------------------\u001b[0m",
      "\u001b[0;31mResourceExhaustedError\u001b[0m                    Traceback (most recent call last)",
      "\u001b[0;32m<ipython-input-29-5393525774f5>\u001b[0m in \u001b[0;36m<module>\u001b[0;34m\u001b[0m\n\u001b[1;32m      7\u001b[0m       \u001b[0mvalidation_steps\u001b[0m\u001b[0;34m=\u001b[0m\u001b[0mvalidation_steps\u001b[0m\u001b[0;34m,\u001b[0m\u001b[0;34m\u001b[0m\u001b[0;34m\u001b[0m\u001b[0m\n\u001b[1;32m      8\u001b[0m       \u001b[0mcallbacks\u001b[0m \u001b[0;34m=\u001b[0m \u001b[0mcallbacks\u001b[0m\u001b[0;34m,\u001b[0m\u001b[0;34m\u001b[0m\u001b[0;34m\u001b[0m\u001b[0m\n\u001b[0;32m----> 9\u001b[0;31m       verbose=1)\n\u001b[0m",
      "\u001b[0;32m/opt/conda/lib/python3.7/site-packages/tensorflow/python/keras/engine/training.py\u001b[0m in \u001b[0;36mfit\u001b[0;34m(self, x, y, batch_size, epochs, verbose, callbacks, validation_split, validation_data, shuffle, class_weight, sample_weight, initial_epoch, steps_per_epoch, validation_steps, validation_batch_size, validation_freq, max_queue_size, workers, use_multiprocessing)\u001b[0m\n\u001b[1;32m   1223\u001b[0m               \u001b[0muse_multiprocessing\u001b[0m\u001b[0;34m=\u001b[0m\u001b[0muse_multiprocessing\u001b[0m\u001b[0;34m,\u001b[0m\u001b[0;34m\u001b[0m\u001b[0;34m\u001b[0m\u001b[0m\n\u001b[1;32m   1224\u001b[0m               \u001b[0mreturn_dict\u001b[0m\u001b[0;34m=\u001b[0m\u001b[0;32mTrue\u001b[0m\u001b[0;34m,\u001b[0m\u001b[0;34m\u001b[0m\u001b[0;34m\u001b[0m\u001b[0m\n\u001b[0;32m-> 1225\u001b[0;31m               _use_cached_eval_dataset=True)\n\u001b[0m\u001b[1;32m   1226\u001b[0m           \u001b[0mval_logs\u001b[0m \u001b[0;34m=\u001b[0m \u001b[0;34m{\u001b[0m\u001b[0;34m'val_'\u001b[0m \u001b[0;34m+\u001b[0m \u001b[0mname\u001b[0m\u001b[0;34m:\u001b[0m \u001b[0mval\u001b[0m \u001b[0;32mfor\u001b[0m \u001b[0mname\u001b[0m\u001b[0;34m,\u001b[0m \u001b[0mval\u001b[0m \u001b[0;32min\u001b[0m \u001b[0mval_logs\u001b[0m\u001b[0;34m.\u001b[0m\u001b[0mitems\u001b[0m\u001b[0;34m(\u001b[0m\u001b[0;34m)\u001b[0m\u001b[0;34m}\u001b[0m\u001b[0;34m\u001b[0m\u001b[0;34m\u001b[0m\u001b[0m\n\u001b[1;32m   1227\u001b[0m           \u001b[0mepoch_logs\u001b[0m\u001b[0;34m.\u001b[0m\u001b[0mupdate\u001b[0m\u001b[0;34m(\u001b[0m\u001b[0mval_logs\u001b[0m\u001b[0;34m)\u001b[0m\u001b[0;34m\u001b[0m\u001b[0;34m\u001b[0m\u001b[0m\n",
      "\u001b[0;32m/opt/conda/lib/python3.7/site-packages/tensorflow/python/keras/engine/training.py\u001b[0m in \u001b[0;36mevaluate\u001b[0;34m(self, x, y, batch_size, verbose, sample_weight, steps, callbacks, max_queue_size, workers, use_multiprocessing, return_dict, **kwargs)\u001b[0m\n\u001b[1;32m   1487\u001b[0m             \u001b[0;32mwith\u001b[0m \u001b[0mtrace\u001b[0m\u001b[0;34m.\u001b[0m\u001b[0mTrace\u001b[0m\u001b[0;34m(\u001b[0m\u001b[0;34m'test'\u001b[0m\u001b[0;34m,\u001b[0m \u001b[0mstep_num\u001b[0m\u001b[0;34m=\u001b[0m\u001b[0mstep\u001b[0m\u001b[0;34m,\u001b[0m \u001b[0m_r\u001b[0m\u001b[0;34m=\u001b[0m\u001b[0;36m1\u001b[0m\u001b[0;34m)\u001b[0m\u001b[0;34m:\u001b[0m\u001b[0;34m\u001b[0m\u001b[0;34m\u001b[0m\u001b[0m\n\u001b[1;32m   1488\u001b[0m               \u001b[0mcallbacks\u001b[0m\u001b[0;34m.\u001b[0m\u001b[0mon_test_batch_begin\u001b[0m\u001b[0;34m(\u001b[0m\u001b[0mstep\u001b[0m\u001b[0;34m)\u001b[0m\u001b[0;34m\u001b[0m\u001b[0;34m\u001b[0m\u001b[0m\n\u001b[0;32m-> 1489\u001b[0;31m               \u001b[0mtmp_logs\u001b[0m \u001b[0;34m=\u001b[0m \u001b[0mself\u001b[0m\u001b[0;34m.\u001b[0m\u001b[0mtest_function\u001b[0m\u001b[0;34m(\u001b[0m\u001b[0miterator\u001b[0m\u001b[0;34m)\u001b[0m\u001b[0;34m\u001b[0m\u001b[0;34m\u001b[0m\u001b[0m\n\u001b[0m\u001b[1;32m   1490\u001b[0m               \u001b[0;32mif\u001b[0m \u001b[0mdata_handler\u001b[0m\u001b[0;34m.\u001b[0m\u001b[0mshould_sync\u001b[0m\u001b[0;34m:\u001b[0m\u001b[0;34m\u001b[0m\u001b[0;34m\u001b[0m\u001b[0m\n\u001b[1;32m   1491\u001b[0m                 \u001b[0mcontext\u001b[0m\u001b[0;34m.\u001b[0m\u001b[0masync_wait\u001b[0m\u001b[0;34m(\u001b[0m\u001b[0;34m)\u001b[0m\u001b[0;34m\u001b[0m\u001b[0;34m\u001b[0m\u001b[0m\n",
      "\u001b[0;32m/opt/conda/lib/python3.7/site-packages/tensorflow/python/eager/def_function.py\u001b[0m in \u001b[0;36m__call__\u001b[0;34m(self, *args, **kwds)\u001b[0m\n\u001b[1;32m    887\u001b[0m \u001b[0;34m\u001b[0m\u001b[0m\n\u001b[1;32m    888\u001b[0m       \u001b[0;32mwith\u001b[0m \u001b[0mOptionalXlaContext\u001b[0m\u001b[0;34m(\u001b[0m\u001b[0mself\u001b[0m\u001b[0;34m.\u001b[0m\u001b[0m_jit_compile\u001b[0m\u001b[0;34m)\u001b[0m\u001b[0;34m:\u001b[0m\u001b[0;34m\u001b[0m\u001b[0;34m\u001b[0m\u001b[0m\n\u001b[0;32m--> 889\u001b[0;31m         \u001b[0mresult\u001b[0m \u001b[0;34m=\u001b[0m \u001b[0mself\u001b[0m\u001b[0;34m.\u001b[0m\u001b[0m_call\u001b[0m\u001b[0;34m(\u001b[0m\u001b[0;34m*\u001b[0m\u001b[0margs\u001b[0m\u001b[0;34m,\u001b[0m \u001b[0;34m**\u001b[0m\u001b[0mkwds\u001b[0m\u001b[0;34m)\u001b[0m\u001b[0;34m\u001b[0m\u001b[0;34m\u001b[0m\u001b[0m\n\u001b[0m\u001b[1;32m    890\u001b[0m \u001b[0;34m\u001b[0m\u001b[0m\n\u001b[1;32m    891\u001b[0m       \u001b[0mnew_tracing_count\u001b[0m \u001b[0;34m=\u001b[0m \u001b[0mself\u001b[0m\u001b[0;34m.\u001b[0m\u001b[0mexperimental_get_tracing_count\u001b[0m\u001b[0;34m(\u001b[0m\u001b[0;34m)\u001b[0m\u001b[0;34m\u001b[0m\u001b[0;34m\u001b[0m\u001b[0m\n",
      "\u001b[0;32m/opt/conda/lib/python3.7/site-packages/tensorflow/python/eager/def_function.py\u001b[0m in \u001b[0;36m_call\u001b[0;34m(self, *args, **kwds)\u001b[0m\n\u001b[1;32m    922\u001b[0m       \u001b[0;31m# In this case we have not created variables on the first call. So we can\u001b[0m\u001b[0;34m\u001b[0m\u001b[0;34m\u001b[0m\u001b[0;34m\u001b[0m\u001b[0m\n\u001b[1;32m    923\u001b[0m       \u001b[0;31m# run the first trace but we should fail if variables are created.\u001b[0m\u001b[0;34m\u001b[0m\u001b[0;34m\u001b[0m\u001b[0;34m\u001b[0m\u001b[0m\n\u001b[0;32m--> 924\u001b[0;31m       \u001b[0mresults\u001b[0m \u001b[0;34m=\u001b[0m \u001b[0mself\u001b[0m\u001b[0;34m.\u001b[0m\u001b[0m_stateful_fn\u001b[0m\u001b[0;34m(\u001b[0m\u001b[0;34m*\u001b[0m\u001b[0margs\u001b[0m\u001b[0;34m,\u001b[0m \u001b[0;34m**\u001b[0m\u001b[0mkwds\u001b[0m\u001b[0;34m)\u001b[0m\u001b[0;34m\u001b[0m\u001b[0;34m\u001b[0m\u001b[0m\n\u001b[0m\u001b[1;32m    925\u001b[0m       \u001b[0;32mif\u001b[0m \u001b[0mself\u001b[0m\u001b[0;34m.\u001b[0m\u001b[0m_created_variables\u001b[0m\u001b[0;34m:\u001b[0m\u001b[0;34m\u001b[0m\u001b[0;34m\u001b[0m\u001b[0m\n\u001b[1;32m    926\u001b[0m         raise ValueError(\"Creating variables on a non-first call to a function\"\n",
      "\u001b[0;32m/opt/conda/lib/python3.7/site-packages/tensorflow/python/eager/function.py\u001b[0m in \u001b[0;36m__call__\u001b[0;34m(self, *args, **kwargs)\u001b[0m\n\u001b[1;32m   3022\u001b[0m        filtered_flat_args) = self._maybe_define_function(args, kwargs)\n\u001b[1;32m   3023\u001b[0m     return graph_function._call_flat(\n\u001b[0;32m-> 3024\u001b[0;31m         filtered_flat_args, captured_inputs=graph_function.captured_inputs)  # pylint: disable=protected-access\n\u001b[0m\u001b[1;32m   3025\u001b[0m \u001b[0;34m\u001b[0m\u001b[0m\n\u001b[1;32m   3026\u001b[0m   \u001b[0;34m@\u001b[0m\u001b[0mproperty\u001b[0m\u001b[0;34m\u001b[0m\u001b[0;34m\u001b[0m\u001b[0m\n",
      "\u001b[0;32m/opt/conda/lib/python3.7/site-packages/tensorflow/python/eager/function.py\u001b[0m in \u001b[0;36m_call_flat\u001b[0;34m(self, args, captured_inputs, cancellation_manager)\u001b[0m\n\u001b[1;32m   1959\u001b[0m       \u001b[0;31m# No tape is watching; skip to running the function.\u001b[0m\u001b[0;34m\u001b[0m\u001b[0;34m\u001b[0m\u001b[0;34m\u001b[0m\u001b[0m\n\u001b[1;32m   1960\u001b[0m       return self._build_call_outputs(self._inference_function.call(\n\u001b[0;32m-> 1961\u001b[0;31m           ctx, args, cancellation_manager=cancellation_manager))\n\u001b[0m\u001b[1;32m   1962\u001b[0m     forward_backward = self._select_forward_and_backward_functions(\n\u001b[1;32m   1963\u001b[0m         \u001b[0margs\u001b[0m\u001b[0;34m,\u001b[0m\u001b[0;34m\u001b[0m\u001b[0;34m\u001b[0m\u001b[0m\n",
      "\u001b[0;32m/opt/conda/lib/python3.7/site-packages/tensorflow/python/eager/function.py\u001b[0m in \u001b[0;36mcall\u001b[0;34m(self, ctx, args, cancellation_manager)\u001b[0m\n\u001b[1;32m    594\u001b[0m               \u001b[0minputs\u001b[0m\u001b[0;34m=\u001b[0m\u001b[0margs\u001b[0m\u001b[0;34m,\u001b[0m\u001b[0;34m\u001b[0m\u001b[0;34m\u001b[0m\u001b[0m\n\u001b[1;32m    595\u001b[0m               \u001b[0mattrs\u001b[0m\u001b[0;34m=\u001b[0m\u001b[0mattrs\u001b[0m\u001b[0;34m,\u001b[0m\u001b[0;34m\u001b[0m\u001b[0;34m\u001b[0m\u001b[0m\n\u001b[0;32m--> 596\u001b[0;31m               ctx=ctx)\n\u001b[0m\u001b[1;32m    597\u001b[0m         \u001b[0;32melse\u001b[0m\u001b[0;34m:\u001b[0m\u001b[0;34m\u001b[0m\u001b[0;34m\u001b[0m\u001b[0m\n\u001b[1;32m    598\u001b[0m           outputs = execute.execute_with_cancellation(\n",
      "\u001b[0;32m/opt/conda/lib/python3.7/site-packages/tensorflow/python/eager/execute.py\u001b[0m in \u001b[0;36mquick_execute\u001b[0;34m(op_name, num_outputs, inputs, attrs, ctx, name)\u001b[0m\n\u001b[1;32m     58\u001b[0m     \u001b[0mctx\u001b[0m\u001b[0;34m.\u001b[0m\u001b[0mensure_initialized\u001b[0m\u001b[0;34m(\u001b[0m\u001b[0;34m)\u001b[0m\u001b[0;34m\u001b[0m\u001b[0;34m\u001b[0m\u001b[0m\n\u001b[1;32m     59\u001b[0m     tensors = pywrap_tfe.TFE_Py_Execute(ctx._handle, device_name, op_name,\n\u001b[0;32m---> 60\u001b[0;31m                                         inputs, attrs, num_outputs)\n\u001b[0m\u001b[1;32m     61\u001b[0m   \u001b[0;32mexcept\u001b[0m \u001b[0mcore\u001b[0m\u001b[0;34m.\u001b[0m\u001b[0m_NotOkStatusException\u001b[0m \u001b[0;32mas\u001b[0m \u001b[0me\u001b[0m\u001b[0;34m:\u001b[0m\u001b[0;34m\u001b[0m\u001b[0;34m\u001b[0m\u001b[0m\n\u001b[1;32m     62\u001b[0m     \u001b[0;32mif\u001b[0m \u001b[0mname\u001b[0m \u001b[0;32mis\u001b[0m \u001b[0;32mnot\u001b[0m \u001b[0;32mNone\u001b[0m\u001b[0;34m:\u001b[0m\u001b[0;34m\u001b[0m\u001b[0;34m\u001b[0m\u001b[0m\n",
      "\u001b[0;31mResourceExhaustedError\u001b[0m:  OOM when allocating tensor with shape[8,64,62,112,112] and type float on /job:localhost/replica:0/task:0/device:GPU:0 by allocator GPU_0_bfc\n\t [[node model_5/model_2/opt_MaxPool2d_2a_3x3/MaxPool3D (defined at <ipython-input-29-5393525774f5>:9) ]]\nHint: If you want to see a list of allocated tensors when OOM happens, add report_tensor_allocations_upon_oom to RunOptions for current allocation info.\n [Op:__inference_test_function_21909]\n\nFunction call stack:\ntest_function\n"
     ]
    }
   ],
   "source": [
    "# Start training and save history\n",
    "history = model.fit(\n",
    "      train_generator,\n",
    "      steps_per_epoch=steps_per_epoch,\n",
    "      epochs=epochs,\n",
    "      validation_data=validation_generator,\n",
    "      validation_steps=validation_steps,\n",
    "      callbacks = callbacks,\n",
    "      verbose=1)"
   ]
  },
  {
   "cell_type": "code",
   "execution_count": 30,
   "id": "8343b870",
   "metadata": {},
   "outputs": [
    {
     "ename": "NameError",
     "evalue": "name 'history' is not defined",
     "output_type": "error",
     "traceback": [
      "\u001b[0;31m---------------------------------------------------------------------------\u001b[0m",
      "\u001b[0;31mNameError\u001b[0m                                 Traceback (most recent call last)",
      "\u001b[0;32m<ipython-input-30-f7514faf5358>\u001b[0m in \u001b[0;36m<module>\u001b[0;34m\u001b[0m\n\u001b[1;32m      2\u001b[0m \u001b[0;32mimport\u001b[0m \u001b[0mpickle\u001b[0m\u001b[0;34m\u001b[0m\u001b[0;34m\u001b[0m\u001b[0m\n\u001b[1;32m      3\u001b[0m \u001b[0;32mwith\u001b[0m \u001b[0mopen\u001b[0m\u001b[0;34m(\u001b[0m\u001b[0;34m'history_i3dfusion'\u001b[0m\u001b[0;34m,\u001b[0m \u001b[0;34m'wb'\u001b[0m\u001b[0;34m)\u001b[0m \u001b[0;32mas\u001b[0m \u001b[0mfile_pi\u001b[0m\u001b[0;34m:\u001b[0m\u001b[0;34m\u001b[0m\u001b[0;34m\u001b[0m\u001b[0m\n\u001b[0;32m----> 4\u001b[0;31m     \u001b[0mpickle\u001b[0m\u001b[0;34m.\u001b[0m\u001b[0mdump\u001b[0m\u001b[0;34m(\u001b[0m\u001b[0mhistory\u001b[0m\u001b[0;34m.\u001b[0m\u001b[0mhistory\u001b[0m\u001b[0;34m,\u001b[0m \u001b[0mfile_pi\u001b[0m\u001b[0;34m)\u001b[0m\u001b[0;34m\u001b[0m\u001b[0;34m\u001b[0m\u001b[0m\n\u001b[0m",
      "\u001b[0;31mNameError\u001b[0m: name 'history' is not defined"
     ]
    }
   ],
   "source": [
    "# Save history of the model\n",
    "import pickle\n",
    "with open('history_i3dfusionfrozen', 'wb') as file_pi:\n",
    "    pickle.dump(history.history, file_pi)"
   ]
  },
  {
   "cell_type": "markdown",
   "id": "27dae557",
   "metadata": {},
   "source": [
    "# Step 7: Evaluate on test set"
   ]
  },
  {
   "cell_type": "code",
   "execution_count": null,
   "id": "00dad006",
   "metadata": {},
   "outputs": [],
   "source": [
    "# Download our pretrained model\n",
    "!mkdir checkpoints\n",
    "%cd checkpoints\n",
    "!gdown --id 16iTf2GwsEMufpa2F7ZYTxwdgwf7VXRW9\n",
    "%cd .."
   ]
  },
  {
   "cell_type": "code",
   "execution_count": null,
   "id": "29af219a",
   "metadata": {},
   "outputs": [],
   "source": [
    "model = tf.keras.models.load_model('checkpoints/weights_fusioni3dfrozen.hdf5')"
   ]
  },
  {
   "cell_type": "code",
   "execution_count": 35,
   "id": "ea1eb91e",
   "metadata": {},
   "outputs": [],
   "source": [
    "test_steps = test_generator.n_files//batch_size"
   ]
  },
  {
   "cell_type": "code",
   "execution_count": 36,
   "id": "380f1bf3",
   "metadata": {},
   "outputs": [
    {
     "name": "stdout",
     "output_type": "stream",
     "text": [
      "50/50 [==============================] - 1213s 24s/step - loss: 0.2896 - accuracy: 0.8675\n"
     ]
    },
    {
     "data": {
      "text/plain": [
       "{'loss': 0.2895623743534088, 'accuracy': 0.8675000071525574}"
      ]
     },
     "execution_count": 36,
     "metadata": {},
     "output_type": "execute_result"
    }
   ],
   "source": [
    "model.evaluate(test_generator,\n",
    "               steps = test_steps,\n",
    "               return_dict =  True)"
   ]
  }
 ],
 "metadata": {
  "environment": {
   "name": "tf2-gpu.2-5.m70",
   "type": "gcloud",
   "uri": "gcr.io/deeplearning-platform-release/tf2-gpu.2-5:m70"
  },
  "kernelspec": {
   "display_name": "Python 3",
   "language": "python",
   "name": "python3"
  },
  "language_info": {
   "codemirror_mode": {
    "name": "ipython",
    "version": 3
   },
   "file_extension": ".py",
   "mimetype": "text/x-python",
   "name": "python",
   "nbconvert_exporter": "python",
   "pygments_lexer": "ipython3",
   "version": "3.7.10"
  }
 },
 "nbformat": 4,
 "nbformat_minor": 5
}
