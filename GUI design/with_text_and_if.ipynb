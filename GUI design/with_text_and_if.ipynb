{
 "cells": [
  {
   "cell_type": "code",
   "execution_count": 3,
   "metadata": {},
   "outputs": [],
   "source": [
    "#libreries\n",
    "import PIL\n",
    "from PIL import Image,ImageTk\n",
    "#import pytesseract\n",
    "import cv2\n",
    "from tkinter import *\n",
    "import subprocess\n",
    "import os"
   ]
  },
  {
   "cell_type": "markdown",
   "metadata": {},
   "source": [
    "Esta forma de hacerlo es escribiendo todo el rato en el video "
   ]
  },
  {
   "cell_type": "code",
   "execution_count": 4,
   "metadata": {
    "scrolled": true
   },
   "outputs": [
    {
     "name": "stdout",
     "output_type": "stream",
     "text": [
      "[INFO] cleaning up...\n"
     ]
    }
   ],
   "source": [
    "# initialize the video stream, pointer to output video file, and\n",
    "# frame dimensions\n",
    "vs = cv2.VideoCapture(\"0lHQ2f0d_3.avi\")\n",
    "writer = None # (I DID NOT WRITE THE OUTPUT IN THE DISK BECAUSE SPACE)\n",
    "(W, H) = (None, None)\n",
    "# loop over frames from the video file stream\n",
    "while True:\n",
    "    # read the next frame from the file\n",
    "    (grabbed, frame) = vs.read()\n",
    "    # if the frame was not grabbed, then we have reached the end\n",
    "    # of the stream\n",
    "    if not grabbed:\n",
    "        break\n",
    "    # if the frame dimensions are empty, grab them. (WE CAN PUT IT IN LARGE LIKE THE BASIC)\n",
    "    if W is None or H is None:\n",
    "        (H, W) = frame.shape[:2]\n",
    "# cap.set(cv2.CAP_PROP_FRAME_WIDTH, width)\n",
    "# cap.set(cv2.CAP_PROP_FRAME_HEIGHT, height)\n",
    "        \n",
    "    output = frame.copy()\n",
    "    frame = cv2.cvtColor(frame, cv2.COLOR_BGR2RGB)\n",
    "    \n",
    "    #predictions\n",
    "    pred = H\n",
    "    label = pred #aca habria que poner if\n",
    "    if label > 0:\n",
    "            text = \"activity: {}\".format(label)\n",
    "            cv2.putText(output, text, (35, 50), cv2.FONT_HERSHEY_SIMPLEX, 1.25, (255, 0, 0), 5)\n",
    "    else:\n",
    "            pass\n",
    "            \n",
    "    cv2.imshow(\"Output\", output)\n",
    "    key = cv2.waitKey(1) & 0xFF\n",
    "    \n",
    "    if key == ord(\"q\"):\n",
    "        break\n",
    "        \n",
    "# release the file pointers\n",
    "print(\"[INFO] cleaning up...\")\n",
    "#writer.release()\n",
    "vs.release()"
   ]
  }
 ],
 "metadata": {
  "kernelspec": {
   "display_name": "Python 3",
   "language": "python",
   "name": "python3"
  },
  "language_info": {
   "codemirror_mode": {
    "name": "ipython",
    "version": 3
   },
   "file_extension": ".py",
   "mimetype": "text/x-python",
   "name": "python",
   "nbconvert_exporter": "python",
   "pygments_lexer": "ipython3",
   "version": "3.7.9"
  }
 },
 "nbformat": 4,
 "nbformat_minor": 4
}
