{
 "cells": [
  {
   "cell_type": "markdown",
   "id": "677fdf61",
   "metadata": {},
   "source": [
    "# Step 1: Loading models"
   ]
  },
  {
   "cell_type": "code",
   "execution_count": 1,
   "id": "7e99fc6d",
   "metadata": {},
   "outputs": [],
   "source": [
    "from keras import models"
   ]
  },
  {
   "cell_type": "code",
   "execution_count": null,
   "id": "5dba2d65",
   "metadata": {},
   "outputs": [],
   "source": [
    "# Load RGB and flow model previously trained\n",
    "rgb_model = models.load_model('checkpoints/weights_i3drgb.hdf5')\n",
    "flow_model = models.load_model('checkpoints/weights_i3dflow.hdf5')"
   ]
  },
  {
   "cell_type": "code",
   "execution_count": 63,
   "id": "dad7fc66",
   "metadata": {},
   "outputs": [],
   "source": [
    "# Get rid of last layer in each model (softmax layer)\n",
    "rgb_model.pop()\n",
    "flow_model.pop()"
   ]
  },
  {
   "cell_type": "code",
   "execution_count": 64,
   "id": "ba5b93b9",
   "metadata": {},
   "outputs": [
    {
     "name": "stdout",
     "output_type": "stream",
     "text": [
      "Model: \"sequential\"\n",
      "_________________________________________________________________\n",
      "Layer (type)                 Output Shape              Param #   \n",
      "=================================================================\n",
      "i3d_inception (Functional)   (None, None, 1, 1, 1024)  12294544  \n",
      "_________________________________________________________________\n",
      "dropout (Dropout)            (None, None, 1, 1, 1024)  0         \n",
      "_________________________________________________________________\n",
      "Conv3d_6a_1x1 (Conv3D)       (None, None, 1, 1, 2)     2048      \n",
      "_________________________________________________________________\n",
      "reshape (Reshape)            (None, None, 2)           0         \n",
      "_________________________________________________________________\n",
      "lambda (Lambda)              (None, 2)                 0         \n",
      "=================================================================\n",
      "Total params: 12,296,592\n",
      "Trainable params: 2,785,520\n",
      "Non-trainable params: 9,511,072\n",
      "_________________________________________________________________\n"
     ]
    }
   ],
   "source": [
    "# Summary of rgb model\n",
    "rgb_model.summary()"
   ]
  },
  {
   "cell_type": "code",
   "execution_count": 65,
   "id": "5a9d6a45",
   "metadata": {},
   "outputs": [
    {
     "name": "stdout",
     "output_type": "stream",
     "text": [
      "Model: \"sequential\"\n",
      "_________________________________________________________________\n",
      "Layer (type)                 Output Shape              Param #   \n",
      "=================================================================\n",
      "i3d_inception (Functional)   (None, None, 1, 1, 1024)  12272592  \n",
      "_________________________________________________________________\n",
      "dropout (Dropout)            (None, None, 1, 1, 1024)  0         \n",
      "_________________________________________________________________\n",
      "Conv3d_6a_1x1 (Conv3D)       (None, None, 1, 1, 2)     2048      \n",
      "_________________________________________________________________\n",
      "reshape (Reshape)            (None, None, 2)           0         \n",
      "_________________________________________________________________\n",
      "lambda (Lambda)              (None, 2)                 0         \n",
      "=================================================================\n",
      "Total params: 12,274,640\n",
      "Trainable params: 2,785,520\n",
      "Non-trainable params: 9,489,120\n",
      "_________________________________________________________________\n"
     ]
    }
   ],
   "source": [
    "# Summary of flow model\n",
    "flow_model.summary()"
   ]
  },
  {
   "cell_type": "markdown",
   "id": "bf298160",
   "metadata": {},
   "source": [
    "# Step 2: Create data generators"
   ]
  },
  {
   "cell_type": "code",
   "execution_count": 68,
   "id": "240fde95",
   "metadata": {},
   "outputs": [],
   "source": [
    "# Parameters\n",
    "batch_size = 8\n",
    "rgb_path_test = '../datai3d/rgb/test/'\n",
    "flow_path_test = '../datai3d/flow/test/'"
   ]
  },
  {
   "cell_type": "code",
   "execution_count": null,
   "id": "826cb4c4",
   "metadata": {},
   "outputs": [],
   "source": [
    "# Create data generators for test set (rgb and flow)\n",
    "rgb_test_generator = DataGenerator(directory=rgb_path_test,\n",
    "                               shuffle = False,\n",
    "                                batch_size=batch_size, \n",
    "                                data_augmentation=False,\n",
    "                                target_frames = None,\n",
    "                                flip = False)\n",
    "\n",
    "flow_test_generator = DataGenerator(directory=flow_path_test,\n",
    "                               shuffle = False,\n",
    "                                batch_size=batch_size, \n",
    "                                data_augmentation=False,\n",
    "                                target_frames = None,\n",
    "                                flip = False)"
   ]
  },
  {
   "cell_type": "markdown",
   "id": "055a7fc5",
   "metadata": {},
   "source": [
    "# Step 3: Get predictions"
   ]
  },
  {
   "cell_type": "code",
   "execution_count": 70,
   "id": "fbd393c3",
   "metadata": {},
   "outputs": [
    {
     "name": "stdout",
     "output_type": "stream",
     "text": [
      "50/50 [==============================] - 384s 8s/step\n"
     ]
    }
   ],
   "source": [
    "# Get the output of rgb model\n",
    "rgb_predictions = rgb_model.predict(x = rgb_test_generator,\n",
    "                                    steps = rgb_test_generator.n_files//batch_size,\n",
    "                                   verbose = 1)"
   ]
  },
  {
   "cell_type": "code",
   "execution_count": 71,
   "id": "b9cf91a8",
   "metadata": {},
   "outputs": [
    {
     "name": "stdout",
     "output_type": "stream",
     "text": [
      "50/50 [==============================] - 328s 7s/step\n"
     ]
    }
   ],
   "source": [
    "# Get the output of flow model\n",
    "flow_predictions = flow_model.predict(x = flow_test_generator,\n",
    "                                    steps = flow_test_generator.n_files//batch_size,\n",
    "                                   verbose = 1)"
   ]
  },
  {
   "cell_type": "code",
   "execution_count": 72,
   "id": "799bace0",
   "metadata": {},
   "outputs": [],
   "source": [
    "# Combine both outputs to get the predictions\n",
    "predictions = (rgb_predictions + flow_predictions).argmax(-1)"
   ]
  },
  {
   "cell_type": "markdown",
   "id": "47eb63bd",
   "metadata": {},
   "source": [
    "# Step 4: Evaluate model"
   ]
  },
  {
   "cell_type": "code",
   "execution_count": 78,
   "id": "1412bc2e",
   "metadata": {},
   "outputs": [],
   "source": [
    "from sklearn import metrics"
   ]
  },
  {
   "cell_type": "code",
   "execution_count": 76,
   "id": "9a6dd575",
   "metadata": {},
   "outputs": [],
   "source": [
    "# Get the ground truth from the data generator\n",
    "ground_truth = list(rgb_test_generator.Y_dict.values())\n",
    "ground_truth = np.array([labels.argmax(-1) for labels in ground_truth])"
   ]
  },
  {
   "cell_type": "code",
   "execution_count": 81,
   "id": "89230a6e",
   "metadata": {},
   "outputs": [
    {
     "data": {
      "text/plain": [
       "0.785"
      ]
     },
     "execution_count": 81,
     "metadata": {},
     "output_type": "execute_result"
    }
   ],
   "source": [
    "# Print accuracy\n",
    "metrics.accuracy_score(ground_truth, predictions)"
   ]
  },
  {
   "cell_type": "code",
   "execution_count": 80,
   "id": "5dad04a5",
   "metadata": {
    "scrolled": true
   },
   "outputs": [
    {
     "name": "stdout",
     "output_type": "stream",
     "text": [
      "              precision    recall  f1-score   support\n",
      "\n",
      "           0       0.76      0.83      0.80       200\n",
      "           1       0.82      0.73      0.77       200\n",
      "\n",
      "    accuracy                           0.79       400\n",
      "   macro avg       0.79      0.78      0.78       400\n",
      "weighted avg       0.79      0.79      0.78       400\n",
      "\n"
     ]
    }
   ],
   "source": [
    "# Print classification report\n",
    "print(metrics.classification_report(ground_truth, predictions))"
   ]
  }
 ],
 "metadata": {
  "kernelspec": {
   "display_name": "Python 3",
   "language": "python",
   "name": "python3"
  },
  "language_info": {
   "codemirror_mode": {
    "name": "ipython",
    "version": 3
   },
   "file_extension": ".py",
   "mimetype": "text/x-python",
   "name": "python",
   "nbconvert_exporter": "python",
   "pygments_lexer": "ipython3",
   "version": "3.8.8"
  }
 },
 "nbformat": 4,
 "nbformat_minor": 5
}
