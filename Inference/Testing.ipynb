{
 "cells": [
  {
   "cell_type": "code",
   "execution_count": null,
   "id": "e9d55af8",
   "metadata": {},
   "outputs": [],
   "source": [
    "!pip install pafy\n",
    "!pip install youtube_dl\n",
    "!pip install gdown"
   ]
  },
  {
   "cell_type": "code",
   "execution_count": null,
   "id": "1c3d29c0",
   "metadata": {},
   "outputs": [],
   "source": [
    "!gdown --id 1iyl0fjTrT-L-_ivCojVoyXYsplwIiIhd"
   ]
  },
  {
   "cell_type": "code",
   "execution_count": 99,
   "id": "fa4eee85",
   "metadata": {},
   "outputs": [],
   "source": [
    "#LOCATION = \"https://www.youtube.com/watch?v=Inrd7-JfilY\"\n",
    "#LOCATION = 'https://www.youtube.com/watch?v=wc4Vy1T6hcE'\n",
    "#LOCATION = 'https://www.youtube.com/watch?v=T3SP2JsmOms'\n",
    "#LOCATION = \"https://www.youtube.com/watch?v=mbScoE8IUvA\"\n",
    "#LOCATION = 'https://youtu.be/EE7G98LA2hA'\n",
    "#LOCATION = \"https://www.youtube.com/watch?v=74w0vAKyBlo\"\n",
    "LOCATION = 'https://youtu.be/hFhIqUrqcJA'\n",
    "MODEL = \"weights_fusioni3d.hdf5\"\n",
    "API_PUT = \"http://34.127.43.192:5000/ViolenceDetection/UpdateDetection/\"\n",
    "API_GET = \"http://34.127.43.192:5000/ViolenceDetection/GetFrame\"\n",
    "YOUTUBE = \"true\"\n",
    "FRAMES = 90\n",
    "ADVANCE = 60"
   ]
  },
  {
   "cell_type": "code",
   "execution_count": null,
   "id": "14f507cd",
   "metadata": {},
   "outputs": [],
   "source": [
    "!python watch_video.py \\\n",
    "        --location $LOCATION \\\n",
    "        --model $MODEL \\\n",
    "        --putapi $API_PUT \\\n",
    "        --getapi $API_GET \\\n",
    "        --youtube $YOUTUBE \\\n",
    "        --frames $FRAMES"
   ]
  }
 ],
 "metadata": {
  "environment": {
   "name": "tf2-gpu.2-5.m71",
   "type": "gcloud",
   "uri": "gcr.io/deeplearning-platform-release/tf2-gpu.2-5:m71"
  },
  "kernelspec": {
   "display_name": "Python 3",
   "language": "python",
   "name": "python3"
  },
  "language_info": {
   "codemirror_mode": {
    "name": "ipython",
    "version": 3
   },
   "file_extension": ".py",
   "mimetype": "text/x-python",
   "name": "python",
   "nbconvert_exporter": "python",
   "pygments_lexer": "ipython3",
   "version": "3.7.10"
  }
 },
 "nbformat": 4,
 "nbformat_minor": 5
}
