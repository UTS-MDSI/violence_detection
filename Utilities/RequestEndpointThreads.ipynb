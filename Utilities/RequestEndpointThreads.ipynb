{
 "cells": [
  {
   "cell_type": "code",
   "execution_count": 1,
   "id": "157a2406",
   "metadata": {},
   "outputs": [],
   "source": [
    "import threading\n",
    "import requests\n",
    "from threading import Event, Thread\n",
    "import json"
   ]
  },
  {
   "cell_type": "code",
   "execution_count": 31,
   "id": "a3dd0683",
   "metadata": {},
   "outputs": [],
   "source": [
    "def jprint(obj):\n",
    "    text = json.dumps(obj, sort_keys=True, indent=4)\n",
    "    print(text)"
   ]
  },
  {
   "cell_type": "code",
   "execution_count": 32,
   "id": "4becbdb4",
   "metadata": {},
   "outputs": [],
   "source": [
    "def call(x):\n",
    "    response = requests.get(x)\n",
    "    resp = jprint(response.json())\n",
    "    return resp"
   ]
  },
  {
   "cell_type": "code",
   "execution_count": 33,
   "id": "682d7d8a",
   "metadata": {},
   "outputs": [],
   "source": [
    "def call_repeatedly(interval, func, *args):\n",
    "    stopped = Event()\n",
    "    def loop():\n",
    "        #while not stopped.wait(interval): # the first call is in `interval` secs\n",
    "        i = 0\n",
    "        for i in range(5):\n",
    "            func(*args)\n",
    "            i=+1\n",
    "    Thread(target=loop).start()    \n",
    "    return stopped.set"
   ]
  },
  {
   "cell_type": "code",
   "execution_count": 34,
   "id": "7275471c",
   "metadata": {},
   "outputs": [],
   "source": [
    "def __init__(self):\n",
    "    thread = threading.Thread(target=self.process)\n",
    "    thread.start()\n",
    "\n",
    "def process(self):\n",
    "    call_repeatedly(0.1, call, \"http://127.0.0.1:5000/\")"
   ]
  },
  {
   "cell_type": "code",
   "execution_count": 35,
   "id": "5ea72d36",
   "metadata": {},
   "outputs": [
    {
     "data": {
      "text/plain": [
       "'{\"Hello Feli\":\"Fight or NonFight?\"}\\n'"
      ]
     },
     "execution_count": 35,
     "metadata": {},
     "output_type": "execute_result"
    }
   ],
   "source": [
    "res = requests.get(\"http://127.0.0.1:5000/\")\n",
    "res.text"
   ]
  },
  {
   "cell_type": "code",
   "execution_count": 36,
   "id": "80bde737",
   "metadata": {},
   "outputs": [
    {
     "data": {
      "text/plain": [
       "<bound method Event.set of <threading.Event object at 0x7fd30a33f490>>"
      ]
     },
     "execution_count": 36,
     "metadata": {},
     "output_type": "execute_result"
    },
    {
     "name": "stdout",
     "output_type": "stream",
     "text": [
      "{\n",
      "    \"Hello Feli\": \"Fight or NonFight?\"\n",
      "}\n",
      "{\n",
      "    \"Hello Feli\": \"Fight or NonFight?\"\n",
      "}\n",
      "{\n",
      "    \"Hello Feli\": \"Fight or NonFight?\"\n",
      "}\n",
      "{\n",
      "    \"Hello Feli\": \"Fight or NonFight?\"\n",
      "}\n",
      "{\n",
      "    \"Hello Feli\": \"Fight or NonFight?\"\n",
      "}\n"
     ]
    }
   ],
   "source": [
    "call_repeatedly(0.1, call, \"http://127.0.0.1:5000/\")"
   ]
  },
  {
   "cell_type": "code",
   "execution_count": null,
   "id": "11256c1a",
   "metadata": {},
   "outputs": [],
   "source": []
  }
 ],
 "metadata": {
  "environment": {
   "name": "tf2-gpu.2-5.m70",
   "type": "gcloud",
   "uri": "gcr.io/deeplearning-platform-release/tf2-gpu.2-5:m70"
  },
  "kernelspec": {
   "display_name": "Python 3",
   "language": "python",
   "name": "python3"
  },
  "language_info": {
   "codemirror_mode": {
    "name": "ipython",
    "version": 3
   },
   "file_extension": ".py",
   "mimetype": "text/x-python",
   "name": "python",
   "nbconvert_exporter": "python",
   "pygments_lexer": "ipython3",
   "version": "3.7.10"
  }
 },
 "nbformat": 4,
 "nbformat_minor": 5
}
