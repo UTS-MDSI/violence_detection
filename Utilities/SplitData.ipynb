{
 "cells": [
  {
   "cell_type": "code",
   "execution_count": 1,
   "id": "c378e9b9",
   "metadata": {},
   "outputs": [],
   "source": [
    "import os\n",
    "import re\n",
    "import random\n",
    "import shutil"
   ]
  },
  {
   "cell_type": "code",
   "execution_count": 2,
   "id": "d23c37fb",
   "metadata": {},
   "outputs": [],
   "source": [
    "# Return to the root\n",
    "os.chdir('..')"
   ]
  },
  {
   "cell_type": "code",
   "execution_count": 3,
   "id": "59447620",
   "metadata": {},
   "outputs": [],
   "source": [
    "def isFinalFolder(path):\n",
    "    '''\n",
    "    Returns True if the folder do not have subfolders inside\n",
    "    '''\n",
    "    # For each file/folder inside the path\n",
    "    for file in os.listdir(path):\n",
    "        # If file is a directy, return False \n",
    "        if os.path.isdir(os.path.join(path,file)):\n",
    "            return False\n",
    "    # Return True if no folder was inside the path\n",
    "    return True\n",
    "\n",
    "def path_to_dict(path):\n",
    "    '''\n",
    "    Creates a dictionary of the content of path. If there is a subfolder,\n",
    "    the funtion is call recursively.\n",
    "    '''\n",
    "    # Creates dict to store the structure and files to store the files of the final folder\n",
    "    fileDict = dict()\n",
    "    files = []\n",
    "    \n",
    "    # For each folder in the path\n",
    "    for folder in os.listdir(path):\n",
    "        # Save the new path\n",
    "        subpath = os.path.join(path,folder)\n",
    "        # If this is not the final folder\n",
    "        if not isFinalFolder(subpath):\n",
    "            # Save it to the dictionary, calling it recursively\n",
    "            fileDict[folder] = path_to_dict(subpath)\n",
    "        # If this is the final folder\n",
    "        else:\n",
    "            # Save it to the dictionary as a list of the files inside\n",
    "            fileDict[folder] = os.listdir(subpath)\n",
    "    \n",
    "    # Return the dictionary\n",
    "    return fileDict"
   ]
  },
  {
   "cell_type": "code",
   "execution_count": 4,
   "id": "d038965a",
   "metadata": {},
   "outputs": [],
   "source": [
    "files = path_to_dict('data')"
   ]
  },
  {
   "cell_type": "code",
   "execution_count": 5,
   "id": "60b3b60c",
   "metadata": {},
   "outputs": [],
   "source": [
    "def get_unique_values(filesDict):\n",
    "    '''\n",
    "    # Return a dictionary with the count of unique values per each video\n",
    "    '''\n",
    "    # Creating empty dictionary to store the values\n",
    "    unique_values = dict()\n",
    "        \n",
    "    # Iterate labels and files in the dictionary\n",
    "    for label, _files in filesDict.items():\n",
    "        # Creating a empty dictionary to store the unique values and count per label\n",
    "        files_dict = dict()\n",
    "        # For each file in the list of files\n",
    "        for file in _files:\n",
    "            # Take just the part of the video name\n",
    "            fileName = re.split('_[0-9]+.avi', file)[0]\n",
    "            # If that video exists on the dictionary\n",
    "            if fileName in files_dict.keys():\n",
    "                # Sum 1\n",
    "                files_dict[fileName] += 1\n",
    "            # If not, just put 1\n",
    "            else:\n",
    "                files_dict[fileName] = 1\n",
    "        # When the second for ends, store the dictionary into the other\n",
    "        unique_values[label] = files_dict\n",
    "    #Returns\n",
    "    return unique_values"
   ]
  },
  {
   "cell_type": "code",
   "execution_count": 6,
   "id": "3a4799ca",
   "metadata": {},
   "outputs": [],
   "source": [
    "unique_files = get_unique_values(files['train'])"
   ]
  },
  {
   "cell_type": "code",
   "execution_count": 7,
   "id": "1bba0696",
   "metadata": {},
   "outputs": [],
   "source": [
    "def suffle_dict(_dict, seed = 1):\n",
    "    '''\n",
    "    It returns a suffled dictionary\n",
    "    '''\n",
    "    random.seed(seed)\n",
    "    temp = list(_dict.items())\n",
    "    random.shuffle(temp)\n",
    "    _dict = dict(temp)\n",
    "    return _dict"
   ]
  },
  {
   "cell_type": "code",
   "execution_count": 8,
   "id": "3e69c94c",
   "metadata": {},
   "outputs": [],
   "source": [
    "unique_files['Fight'] = suffle_dict(unique_files['Fight'])\n",
    "unique_files['NonFight'] = suffle_dict(unique_files['NonFight'])"
   ]
  },
  {
   "cell_type": "code",
   "execution_count": 9,
   "id": "4372af4c",
   "metadata": {},
   "outputs": [],
   "source": [
    "os.rename('data/val', 'data/test')"
   ]
  },
  {
   "cell_type": "code",
   "execution_count": 10,
   "id": "c28527a9",
   "metadata": {},
   "outputs": [],
   "source": [
    "def validation_videos(unique_files, ratio = 0.2):\n",
    "    '''\n",
    "    It returns a list with the videos to put into the validation set\n",
    "    \n",
    "    # Arguments\n",
    "    unique_files: Dictionary with the unique value count\n",
    "    ratio: ratio of train samples to go into the validation set    \n",
    "    '''\n",
    "    # Get the number of videos in the dictionary\n",
    "    total_videos = 0\n",
    "    for file, num in unique_files.items():\n",
    "        total_videos += num\n",
    "    \n",
    "    # Create the validation unique files list\n",
    "    validation = []\n",
    "    # Counting the number of videos\n",
    "    videos = 0\n",
    "    for file, num in unique_files.items():\n",
    "        videos += num\n",
    "        # If the video count is more than the ratio of validation set, it stops\n",
    "        if videos >= total_videos * ratio:\n",
    "            return validation\n",
    "        else:\n",
    "            validation.append(file)"
   ]
  },
  {
   "cell_type": "code",
   "execution_count": 11,
   "id": "f8126fe5",
   "metadata": {},
   "outputs": [],
   "source": [
    "unique_files['Fight'] = validation_videos(unique_files['Fight'])\n",
    "unique_files['NonFight'] = validation_videos(unique_files['NonFight'])"
   ]
  },
  {
   "cell_type": "code",
   "execution_count": 12,
   "id": "608acb6e",
   "metadata": {},
   "outputs": [],
   "source": [
    "def move_clips(files, validation_set, source, destination):\n",
    "    '''\n",
    "    It moves the files from one directory to another\n",
    "    '''\n",
    "    \n",
    "    # It creates the validation folder\n",
    "    os.mkdir(destination)\n",
    "    # For each label in files\n",
    "    for label, _files in files.items():\n",
    "        os.mkdir(os.path.join(destination,label))\n",
    "        for file in _files:\n",
    "            video_name = re.split('_[0-9]+.avi', file)[0]\n",
    "            if video_name in validation_set[label]: \n",
    "                source_file = os.path.join(source, label, file)\n",
    "                dest_folder = os.path.join(destination, label)\n",
    "                shutil.move(source_file, dest_folder)"
   ]
  },
  {
   "cell_type": "code",
   "execution_count": 13,
   "id": "325795cb",
   "metadata": {},
   "outputs": [],
   "source": [
    "move_clips(files['train'], unique_files, 'data/train', 'data/validation')"
   ]
  },
  {
   "cell_type": "code",
   "execution_count": null,
   "id": "27138b9a",
   "metadata": {},
   "outputs": [],
   "source": []
  }
 ],
 "metadata": {
  "kernelspec": {
   "display_name": "Python 3",
   "language": "python",
   "name": "python3"
  },
  "language_info": {
   "codemirror_mode": {
    "name": "ipython",
    "version": 3
   },
   "file_extension": ".py",
   "mimetype": "text/x-python",
   "name": "python",
   "nbconvert_exporter": "python",
   "pygments_lexer": "ipython3",
   "version": "3.7.10"
  }
 },
 "nbformat": 4,
 "nbformat_minor": 5
}
